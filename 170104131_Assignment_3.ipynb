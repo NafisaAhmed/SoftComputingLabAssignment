{
  "nbformat": 4,
  "nbformat_minor": 0,
  "metadata": {
    "colab": {
      "name": "170104131_Assignment_3.ipynb",
      "provenance": [],
      "collapsed_sections": []
    },
    "kernelspec": {
      "name": "python3",
      "display_name": "Python 3"
    },
    "language_info": {
      "name": "python"
    },
    "accelerator": "GPU"
  },
  "cells": [
    {
      "cell_type": "code",
      "metadata": {
        "colab": {
          "base_uri": "https://localhost:8080/"
        },
        "id": "0j1pSQ6Bbkel",
        "outputId": "581f1768-9eae-41b5-8a63-52379172d178"
      },
      "source": [
        "import pandas as pd\n",
        "import seaborn as sns\n",
        "import matplotlib.pyplot as plt\n",
        "import re\n",
        "import numpy as np\n",
        "from sklearn.preprocessing import LabelEncoder\n",
        "from sklearn.model_selection import train_test_split\n",
        "from sklearn.metrics import accuracy_score,precision_score,recall_score,f1_score,roc_auc_score\n",
        "from sklearn.metrics import confusion_matrix, classification_report\n",
        "import torch\n",
        "import torch.nn as nn\n",
        "from torch.utils.data import DataLoader\n",
        "import torch.utils.data as data\n",
        "import torch.nn.functional as F\n",
        "\n",
        "import nltk.corpus\n",
        "nltk.download('stopwords')\n",
        "from nltk.corpus import stopwords\n",
        "\n",
        "import nltk \n",
        "nltk.download('punkt')"
      ],
      "execution_count": 1,
      "outputs": [
        {
          "output_type": "stream",
          "name": "stdout",
          "text": [
            "[nltk_data] Downloading package stopwords to /root/nltk_data...\n",
            "[nltk_data]   Unzipping corpora/stopwords.zip.\n",
            "[nltk_data] Downloading package punkt to /root/nltk_data...\n",
            "[nltk_data]   Unzipping tokenizers/punkt.zip.\n"
          ]
        },
        {
          "output_type": "execute_result",
          "data": {
            "text/plain": [
              "True"
            ]
          },
          "metadata": {},
          "execution_count": 1
        }
      ]
    },
    {
      "cell_type": "code",
      "metadata": {
        "colab": {
          "base_uri": "https://localhost:8080/"
        },
        "id": "P0cu06LoH5Ei",
        "outputId": "507479fe-7f76-4445-c43b-e3896a3a7c4d"
      },
      "source": [
        "!nvidia-smi"
      ],
      "execution_count": 2,
      "outputs": [
        {
          "output_type": "stream",
          "name": "stdout",
          "text": [
            "Mon Sep 27 15:29:41 2021       \n",
            "+-----------------------------------------------------------------------------+\n",
            "| NVIDIA-SMI 470.63.01    Driver Version: 460.32.03    CUDA Version: 11.2     |\n",
            "|-------------------------------+----------------------+----------------------+\n",
            "| GPU  Name        Persistence-M| Bus-Id        Disp.A | Volatile Uncorr. ECC |\n",
            "| Fan  Temp  Perf  Pwr:Usage/Cap|         Memory-Usage | GPU-Util  Compute M. |\n",
            "|                               |                      |               MIG M. |\n",
            "|===============================+======================+======================|\n",
            "|   0  Tesla K80           Off  | 00000000:00:04.0 Off |                    0 |\n",
            "| N/A   32C    P8    28W / 149W |      0MiB / 11441MiB |      0%      Default |\n",
            "|                               |                      |                  N/A |\n",
            "+-------------------------------+----------------------+----------------------+\n",
            "                                                                               \n",
            "+-----------------------------------------------------------------------------+\n",
            "| Processes:                                                                  |\n",
            "|  GPU   GI   CI        PID   Type   Process name                  GPU Memory |\n",
            "|        ID   ID                                                   Usage      |\n",
            "|=============================================================================|\n",
            "|  No running processes found                                                 |\n",
            "+-----------------------------------------------------------------------------+\n"
          ]
        }
      ]
    },
    {
      "cell_type": "markdown",
      "metadata": {
        "id": "c7hnSwVJjacs"
      },
      "source": [
        "### Data Preparation"
      ]
    },
    {
      "cell_type": "code",
      "metadata": {
        "colab": {
          "base_uri": "https://localhost:8080/"
        },
        "id": "cr1qcAgjcdSw",
        "outputId": "cd837c6f-a9a2-4ec6-9c7c-2806e5c38d53"
      },
      "source": [
        "from google.colab import drive\n",
        "drive.mount('/content/drive')"
      ],
      "execution_count": 6,
      "outputs": [
        {
          "output_type": "stream",
          "name": "stdout",
          "text": [
            "Mounted at /content/drive\n"
          ]
        }
      ]
    },
    {
      "cell_type": "code",
      "metadata": {
        "colab": {
          "base_uri": "https://localhost:8080/",
          "height": 206
        },
        "id": "3WQa4ncycPUT",
        "outputId": "4d3526a9-59bc-4ac2-98db-80645ef294eb"
      },
      "source": [
        "df=pd.read_csv('/content/drive/MyDrive/csvFiles/Dataset 3.csv',encoding = \"ISO-8859-1\")\n",
        "df.head()"
      ],
      "execution_count": 7,
      "outputs": [
        {
          "output_type": "execute_result",
          "data": {
            "text/html": [
              "<div>\n",
              "<style scoped>\n",
              "    .dataframe tbody tr th:only-of-type {\n",
              "        vertical-align: middle;\n",
              "    }\n",
              "\n",
              "    .dataframe tbody tr th {\n",
              "        vertical-align: top;\n",
              "    }\n",
              "\n",
              "    .dataframe thead th {\n",
              "        text-align: right;\n",
              "    }\n",
              "</style>\n",
              "<table border=\"1\" class=\"dataframe\">\n",
              "  <thead>\n",
              "    <tr style=\"text-align: right;\">\n",
              "      <th></th>\n",
              "      <th>tweets</th>\n",
              "      <th>sentiment</th>\n",
              "    </tr>\n",
              "  </thead>\n",
              "  <tbody>\n",
              "    <tr>\n",
              "      <th>0</th>\n",
              "      <td>just had a real good moment. i missssssssss hi...</td>\n",
              "      <td>0</td>\n",
              "    </tr>\n",
              "    <tr>\n",
              "      <th>1</th>\n",
              "      <td>is reading manga  http://plurk.com/p/mzp1e</td>\n",
              "      <td>0</td>\n",
              "    </tr>\n",
              "    <tr>\n",
              "      <th>2</th>\n",
              "      <td>@comeagainjen http://twitpic.com/2y2lx - http:...</td>\n",
              "      <td>0</td>\n",
              "    </tr>\n",
              "    <tr>\n",
              "      <th>3</th>\n",
              "      <td>@lapcat Need to send 'em to my accountant tomo...</td>\n",
              "      <td>0</td>\n",
              "    </tr>\n",
              "    <tr>\n",
              "      <th>4</th>\n",
              "      <td>ADD ME ON MYSPACE!!!  myspace.com/LookThunder</td>\n",
              "      <td>0</td>\n",
              "    </tr>\n",
              "  </tbody>\n",
              "</table>\n",
              "</div>"
            ],
            "text/plain": [
              "                                              tweets  sentiment\n",
              "0  just had a real good moment. i missssssssss hi...          0\n",
              "1         is reading manga  http://plurk.com/p/mzp1e          0\n",
              "2  @comeagainjen http://twitpic.com/2y2lx - http:...          0\n",
              "3  @lapcat Need to send 'em to my accountant tomo...          0\n",
              "4      ADD ME ON MYSPACE!!!  myspace.com/LookThunder          0"
            ]
          },
          "metadata": {},
          "execution_count": 7
        }
      ]
    },
    {
      "cell_type": "code",
      "metadata": {
        "colab": {
          "base_uri": "https://localhost:8080/",
          "height": 327
        },
        "id": "2Oms0iJ7i8OX",
        "outputId": "3a728503-f5ef-4a7a-d14f-5b8ee3c63caf"
      },
      "source": [
        "sns.set(font_scale=1.4)\n",
        "df['sentiment'].value_counts().plot(kind='barh', figsize=(6,4))\n",
        "plt.xlabel('Number of tweets', labelpad=12)\n",
        "plt.ylabel('Sentiment', labelpad=12)\n",
        "plt.yticks(rotation = 45)\n",
        "plt.title(\"Dataset Distribution\", y=1.02);"
      ],
      "execution_count": 10,
      "outputs": [
        {
          "output_type": "display_data",
          "data": {
            "image/png": "[encoded data removed]",
            "text/plain": [
              "<Figure size 432x288 with 1 Axes>"
            ]
          },
          "metadata": {}
        }
      ]
    },
    {
      "cell_type": "markdown",
      "metadata": {
        "id": "GQdRYAspjhfC"
      },
      "source": [
        "### Data Cleaning"
      ]
    },
    {
      "cell_type": "code",
      "metadata": {
        "colab": {
          "base_uri": "https://localhost:8080/"
        },
        "id": "A0X8V41bjRKs",
        "outputId": "3c8ba39a-7780-4eec-af6b-bf6e48dad923"
      },
      "source": [
        "def cleaning(text):\n",
        "  text=text.lower()\n",
        "  text=re.sub(r\"(@[A-Za-z0-9]+)|(@\\[A-Za-z0-9]+)|([^0-9A-Za-z \\t])|(\\w+:\\/\\/\\S+)|^rt|http.+?\", \" \", str(text))\n",
        "\n",
        "  stop = stopwords.words('english')\n",
        "  text = \" \".join([word for word in text.split() if word not in (stop)])\n",
        "\n",
        "  return text\n",
        "\n",
        "df['cleaned_tweets']=df['tweets'].apply(cleaning)\n",
        "\n",
        "indices=[2500, 3000, 5000, 7800, 9700]\n",
        "for i in indices:\n",
        "    print('Original Data--> ',df['tweets'][i])\n",
        "    print('Cleaned Data--> ',df['cleaned_tweets'][i])\n",
        "    print('Sentiment--> ',df['sentiment'][i])\n",
        "    print('\\n')"
      ],
      "execution_count": 12,
      "outputs": [
        {
          "output_type": "stream",
          "name": "stdout",
          "text": [
            "Original Data-->  @highheelznkickz its ok; the 1st step is deniallll  LOL\n",
            "Cleaned Data-->  ok 1st step deniallll lol\n",
            "Sentiment-->  0\n",
            "\n",
            "\n",
            "Original Data-->  @Teamcyrus I love you! I dont think i have ever met anyone as kind as you! And well done for getting 1000 followers! \n",
            "Cleaned Data-->  love dont think ever met anyone kind well done getting 1000 followers\n",
            "Sentiment-->  0\n",
            "\n",
            "\n",
            "Original Data-->  @Clareies  whip out out the after sun and moisturiser!\n",
            "Cleaned Data-->  whip sun moisturiser\n",
            "Sentiment-->  0\n",
            "\n",
            "\n",
            "Original Data-->  http://twitpic.com/7j5nc - breakfast after a long night \n",
            "Cleaned Data-->  breakfast long night\n",
            "Sentiment-->  0\n",
            "\n",
            "\n",
            "Original Data-->  distant myself for it then dwell on my misery and trigger my depression not that I have being happy or feeling good about myself these past days . So yeah I wanna take a break from it all and just spend time doing stuff I like/love\n",
            "Cleaned Data-->  distant dwell misery trigger depression happy feeling good past days yeah wanna take break spend time stuff like love\n",
            "Sentiment-->  1\n",
            "\n",
            "\n"
          ]
        }
      ]
    },
    {
      "cell_type": "markdown",
      "metadata": {
        "id": "G2vFyqtcoMYg"
      },
      "source": [
        "### Removing Empty Data"
      ]
    },
    {
      "cell_type": "code",
      "metadata": {
        "colab": {
          "base_uri": "https://localhost:8080/"
        },
        "id": "Xj32cPbYnjJb",
        "outputId": "30434b73-6e22-41a1-c870-60a873f30cb5"
      },
      "source": [
        "df['Length']=df['cleaned_tweets'].apply(lambda x: len(x.split()))\n",
        "print('Total Tweets: ',len(df))\n",
        "dataset=df.loc[df.Length>0]\n",
        "dataset=dataset.reset_index(drop=True)\n",
        "print('Removed Tweets:  ',len(df)-len(dataset))\n",
        "print('Total Tweets:  ',len(dataset))"
      ],
      "execution_count": 13,
      "outputs": [
        {
          "output_type": "stream",
          "name": "stdout",
          "text": [
            "Total Tweets:  10314\n",
            "Removed Tweets:   34\n",
            "Total Tweets:   10280\n"
          ]
        }
      ]
    },
    {
      "cell_type": "markdown",
      "metadata": {
        "id": "XelX_t1eoWuF"
      },
      "source": [
        "### Dataset Analysis"
      ]
    },
    {
      "cell_type": "code",
      "metadata": {
        "id": "N8Vb99MmoLi5"
      },
      "source": [
        "class_labels=[k for k,v in dataset['sentiment'].value_counts().to_dict().items()]\n",
        "    \n",
        "documents=[]\n",
        "words=[]\n",
        "u_words=[]\n",
        "total_words=[word.strip() for t in list(df['cleaned_tweets']) for word in t.strip().split()]\n",
        "\n",
        "def data_summary(dataset):\n",
        "    print('Total Words:  {}\\n'.format(len(total_words)))\n",
        "    for label in class_labels:\n",
        "        words_list = [word for t in dataset[dataset.sentiment==label].cleaned_tweets for word in t.strip().split()]\n",
        "        \n",
        "        counts=dict()\n",
        "        for w in words_list:\n",
        "            counts[w]=counts.get(w,0)+1\n",
        "        \n",
        "        ordered=sorted(counts.items(), key=lambda x:x[1], reverse=True)\n",
        "        \n",
        "        documents.append(len(list(dataset[dataset.sentiment==label].cleaned_tweets)))\n",
        "        u_words.append(len(np.unique(words_list)))\n",
        "        words.append(len(words_list))\n",
        "        \n",
        "        print('Category:-->{}'.format(label))\n",
        "        print('Number of documents:-->{}'.format(len(list(dataset[dataset.sentiment==label].cleaned_tweets))))\n",
        "        print('Number of Words:-->{}'.format(len(words_list)))\n",
        "        print('Number of Unique Words-->{}'.format(len(np.unique(words_list))))\n",
        "        \n",
        "        print('Most Unique Words: \\n')\n",
        "        for k,v in ordered[:10]:\n",
        "            print('{}--->{}'.format(k,v))\n",
        "        print('\\n')\n",
        "    \n",
        "    print('Total Unique Words:  {}'.format(len(np.unique(total_words))))"
      ],
      "execution_count": 20,
      "outputs": []
    },
    {
      "cell_type": "code",
      "metadata": {
        "colab": {
          "base_uri": "https://localhost:8080/"
        },
        "id": "8_hD04t7pflc",
        "outputId": "4cfdad0b-8c3f-467f-81a5-36c2133c06c3"
      },
      "source": [
        "data_summary(dataset)"
      ],
      "execution_count": 21,
      "outputs": [
        {
          "output_type": "stream",
          "name": "stdout",
          "text": [
            "Total Words:  86021\n",
            "\n",
            "Category:-->0\n",
            "Number of documents:-->7966\n",
            "Number of Words:-->56177\n",
            "Number of Unique Words-->11712\n",
            "Most Unique Words: \n",
            "\n",
            "good--->616\n",
            "day--->491\n",
            "love--->478\n",
            "quot--->427\n",
            "lol--->399\n",
            "get--->369\n",
            "like--->358\n",
            "thanks--->347\n",
            "time--->323\n",
            "today--->321\n",
            "\n",
            "\n",
            "Category:-->1\n",
            "Number of documents:-->2314\n",
            "Number of Words:-->29844\n",
            "Number of Unique Words-->7236\n",
            "Most Unique Words: \n",
            "\n",
            "depression--->2367\n",
            "anxiety--->392\n",
            "emoji--->343\n",
            "twitter--->299\n",
            "com--->281\n",
            "pic--->280\n",
            "face--->205\n",
            "like--->199\n",
            "people--->163\n",
            "know--->129\n",
            "\n",
            "\n",
            "Total Unique Words:  15748\n"
          ]
        }
      ]
    },
    {
      "cell_type": "markdown",
      "metadata": {
        "id": "b1HExJbPpvwc"
      },
      "source": [
        "### Summary Visualization"
      ]
    },
    {
      "cell_type": "code",
      "metadata": {
        "colab": {
          "base_uri": "https://localhost:8080/",
          "height": 369
        },
        "id": "EinXbT90pmfp",
        "outputId": "5f34f4e5-9533-4564-fa4b-01a3f7937dae"
      },
      "source": [
        "data_matrix=pd.DataFrame({'Total Documents': documents,\n",
        "                         'Total Words': words,\n",
        "                         'Unique Words': u_words,\n",
        "                         'Sentiment': class_labels})\n",
        "\n",
        "d=pd.melt(data_matrix,id_vars='Sentiment', var_name='Category', value_name='Value')\n",
        "plt.figure(figsize=(10,5))\n",
        "ax=plt.subplot()\n",
        "\n",
        "sns.barplot(data=d, x='Sentiment', y='Value', hue='Category')\n",
        "ax.set_xlabel('Sentiment')\n",
        "ax.set_title('Data Statistics');"
      ],
      "execution_count": 22,
      "outputs": [
        {
          "output_type": "display_data",
          "data": {
            "image/png": "[encoded data removed]",
            "text/plain": [
              "<Figure size 720x360 with 1 Axes>"
            ]
          },
          "metadata": {}
        }
      ]
    },
    {
      "cell_type": "markdown",
      "metadata": {
        "id": "I1TvHKmsqcgc"
      },
      "source": [
        "### Headline Length Distribution"
      ]
    },
    {
      "cell_type": "code",
      "metadata": {
        "colab": {
          "base_uri": "https://localhost:8080/",
          "height": 367
        },
        "id": "kvkeAY84qYin",
        "outputId": "0babf39d-2ced-43c8-f0b6-2d3c069636aa"
      },
      "source": [
        "text_lengths=list(dataset['cleaned_tweets'].apply(lambda x:len(x.split())))\n",
        "frequencies=dict()\n",
        "for l in text_lengths:\n",
        "    frequencies[l]=frequencies.get(l,0)+1\n",
        "\n",
        "plt.bar(x=frequencies.keys(), height=frequencies.values());\n",
        "plt.xlabel('Length of Tweets')\n",
        "plt.ylabel('Frequency')\n",
        "plt.title('Length-Frequency Distribution')\n",
        "plt.show()\n",
        "print(f\"Maximum Length of a tweet: {max(text_lengths)}\")\n",
        "print(f\"Minimum Length of a tweet: {min(text_lengths)}\")\n",
        "print(f\"Average Length of a tweet: {round(np.mean(text_lengths),0)}\")"
      ],
      "execution_count": 23,
      "outputs": [
        {
          "output_type": "display_data",
          "data": {
            "image/png": "[encoded data removed]",
            "text/plain": [
              "<Figure size 432x288 with 1 Axes>"
            ]
          },
          "metadata": {}
        },
        {
          "output_type": "stream",
          "name": "stdout",
          "text": [
            "Maximum Length of a tweet: 60\n",
            "Minimum Length of a tweet: 1\n",
            "Average Length of a tweet: 8.0\n"
          ]
        }
      ]
    },
    {
      "cell_type": "markdown",
      "metadata": {
        "id": "7R7igXuWq-aY"
      },
      "source": [
        "### Label Encoding and Dataset Splitting"
      ]
    },
    {
      "cell_type": "code",
      "metadata": {
        "id": "kSdZ_jcFq6Uo"
      },
      "source": [
        "def label_encoding(category):\n",
        "    le=LabelEncoder()\n",
        "    le.fit(category)\n",
        "    encoded_labels=np.array(le.transform(category))\n",
        "    \n",
        "    sample_ids=[1000,9120,23]\n",
        "    for i in sample_ids:\n",
        "        print('{}--->{}'.format(category[i], encoded_labels[i]))\n",
        "    return encoded_labels"
      ],
      "execution_count": 24,
      "outputs": []
    },
    {
      "cell_type": "code",
      "metadata": {
        "colab": {
          "base_uri": "https://localhost:8080/"
        },
        "id": "8_R2DoInrOUy",
        "outputId": "aa53fb4e-0869-4b17-9cd4-b3c3d7db2cb8"
      },
      "source": [
        "labels=label_encoding(dataset.sentiment)"
      ],
      "execution_count": 25,
      "outputs": [
        {
          "output_type": "stream",
          "name": "stdout",
          "text": [
            "0--->0\n",
            "1--->1\n",
            "0--->0\n"
          ]
        }
      ]
    },
    {
      "cell_type": "code",
      "metadata": {
        "id": "ul666nejrX5Y"
      },
      "source": [
        "def dataset_splitting(tweets, category):\n",
        "    X,X_test,y,y_test=train_test_split(tweets, category, train_size=0.8, test_size=0.2, random_state=0)\n",
        "    X_train, X_valid, y_train, y_valid=train_test_split(X,y,train_size=0.8, test_size=0.2, random_state=0)\n",
        "    \n",
        "    print('Dataset Distribution:\\n')\n",
        "    print('\\tSet\\t\\tData')\n",
        "    print(\"\\t========\\t======\")\n",
        "    print('\\tTotal:\\t\\t{}'.format(len(tweets)))\n",
        "    print('\\tTrain:\\t\\t{}'.format(len(X_train)))\n",
        "    print('\\tTest:\\t\\t{}'.format(len(X_test)))\n",
        "    print('\\tValid:\\t\\t{}'.format(len(X_valid)))\n",
        "    \n",
        "    return X_train, X_valid, X_test, y_train, y_valid, y_test"
      ],
      "execution_count": 28,
      "outputs": []
    },
    {
      "cell_type": "code",
      "metadata": {
        "colab": {
          "base_uri": "https://localhost:8080/"
        },
        "id": "2f4EELGXrmAT",
        "outputId": "7a0dd529-deb7-408f-f37e-af0cea37ff08"
      },
      "source": [
        "X_train,X_valid,X_test,y_train,y_valid,y_test=dataset_splitting(dataset.cleaned_tweets, labels)"
      ],
      "execution_count": 29,
      "outputs": [
        {
          "output_type": "stream",
          "name": "stdout",
          "text": [
            "Dataset Distribution:\n",
            "\n",
            "\tSet\t\tData\n",
            "\t========\t======\n",
            "\tTotal:\t\t10280\n",
            "\tTrain:\t\t6579\n",
            "\tTest:\t\t2056\n",
            "\tValid:\t\t1645\n"
          ]
        }
      ]
    },
    {
      "cell_type": "markdown",
      "metadata": {
        "id": "UCpEPBqAr3z4"
      },
      "source": [
        "### Tokenization and Word Embedding"
      ]
    },
    {
      "cell_type": "code",
      "metadata": {
        "colab": {
          "base_uri": "https://localhost:8080/"
        },
        "id": "sU2XAdQIrxDq",
        "outputId": "ca6be4c4-12d0-4b0f-d811-9df5c5e1ca0b"
      },
      "source": [
        "tokens = nltk.word_tokenize(X_train.iloc[5000])\n",
        "tokens"
      ],
      "execution_count": 30,
      "outputs": [
        {
          "output_type": "execute_result",
          "data": {
            "text/plain": [
              "['rain',\n",
              " 'dark',\n",
              " 'sky',\n",
              " 'muddy',\n",
              " 'streaks',\n",
              " 'reflect',\n",
              " 'depression',\n",
              " 'vibrant',\n",
              " 'colors',\n",
              " 'reflect',\n",
              " 'state',\n",
              " 'happiness',\n",
              " 'state',\n",
              " 'mind',\n",
              " 'clouds',\n",
              " 'wanting',\n",
              " 'see',\n",
              " 'colors',\n",
              " 'feel',\n",
              " 'pain',\n",
              " 'key',\n",
              " 'emoji',\n",
              " 'key',\n",
              " 'wan',\n",
              " 'na',\n",
              " 'fly',\n",
              " 'high',\n",
              " 'sky',\n",
              " 'emoji',\n",
              " 'sparkles']"
            ]
          },
          "metadata": {},
          "execution_count": 30
        }
      ]
    },
    {
      "cell_type": "code",
      "metadata": {
        "id": "N4dbLta7thxs"
      },
      "source": [
        "def load_glove_model(glove_file):\n",
        "  f = open(glove_file, 'r', encoding='utf-8')\n",
        "  glove_model = {}\n",
        "  \n",
        "  for line in f:\n",
        "    split_line = line.split()\n",
        "    word = split_line[0]\n",
        "    embedding = np.array([float(val) for val in split_line[1:]])\n",
        "    glove_model[word] = embedding\n",
        "  return glove_model"
      ],
      "execution_count": 31,
      "outputs": []
    },
    {
      "cell_type": "code",
      "metadata": {
        "id": "-T2HoaasupBD"
      },
      "source": [
        "glove_100d=load_glove_model('glove.6B.100d.txt')"
      ],
      "execution_count": 33,
      "outputs": []
    },
    {
      "cell_type": "code",
      "metadata": {
        "colab": {
          "base_uri": "https://localhost:8080/"
        },
        "id": "ysvf41S3d_1c",
        "outputId": "6df66db7-db46-4e43-b80d-9bc0d2d34598"
      },
      "source": [
        "glove_100d['says']"
      ],
      "execution_count": 37,
      "outputs": [
        {
          "output_type": "execute_result",
          "data": {
            "text/plain": [
              "array([ 0.13742 ,  0.52508 ,  0.50094 , -0.74136 ,  0.13468 , -0.40371 ,\n",
              "       -0.50229 ,  0.25079 ,  0.41697 ,  0.10341 , -0.041446, -0.025218,\n",
              "        0.28372 ,  0.35165 , -0.20286 ,  0.16248 , -0.11873 , -0.033485,\n",
              "       -0.43811 ,  0.89573 ,  0.048899,  0.2746  ,  0.14668 ,  0.16552 ,\n",
              "        0.035335,  0.63623 , -0.50517 , -1.0775  , -0.18428 , -0.13318 ,\n",
              "       -0.25741 ,  1.208   , -0.13687 ,  0.21086 , -0.029814,  0.18402 ,\n",
              "        0.27063 ,  0.2435  ,  0.30211 , -0.27794 , -1.0233  ,  0.083094,\n",
              "        0.23371 , -0.25094 , -0.5207  , -0.19847 , -0.52875 , -0.68783 ,\n",
              "       -0.33532 , -0.59114 ,  0.78681 , -0.64765 ,  0.055483,  0.93429 ,\n",
              "       -0.18895 , -2.3452  , -0.26689 ,  0.18635 ,  0.90769 ,  0.63425 ,\n",
              "        0.72957 ,  0.22406 ,  0.29788 , -0.72107 ,  0.64362 , -0.17202 ,\n",
              "        0.90225 ,  0.8747  ,  0.017163,  0.5374  ,  0.79546 , -0.15353 ,\n",
              "       -0.2891  , -0.40681 ,  0.68275 , -0.15397 ,  0.36546 ,  0.011133,\n",
              "       -1.1458  ,  0.096262,  0.92523 , -0.44603 , -0.39015 , -0.074255,\n",
              "       -1.0028  , -0.55396 ,  0.030926, -0.39849 , -0.27362 , -0.20735 ,\n",
              "        0.66789 , -0.21458 ,  0.52314 , -0.34671 , -0.35345 ,  0.50631 ,\n",
              "       -0.12254 , -0.43024 , -0.016063,  0.71837 ])"
            ]
          },
          "metadata": {},
          "execution_count": 37
        }
      ]
    },
    {
      "cell_type": "code",
      "metadata": {
        "colab": {
          "base_uri": "https://localhost:8080/"
        },
        "id": "bBcriwsBvJ3g",
        "outputId": "4be9f9b2-6df6-4614-8aa9-e6910468685e"
      },
      "source": [
        "len(glove_100d)"
      ],
      "execution_count": 38,
      "outputs": [
        {
          "output_type": "execute_result",
          "data": {
            "text/plain": [
              "1225"
            ]
          },
          "metadata": {},
          "execution_count": 38
        }
      ]
    },
    {
      "cell_type": "code",
      "metadata": {
        "id": "_ycUEI4huySP"
      },
      "source": [
        "def embed_tweet(tweets):\n",
        "    lst=[]\n",
        "    lst_pad=[[0]*100]*60\n",
        "\n",
        "    words=nltk.word_tokenize(tweets) \n",
        "      \n",
        "    n=len(words)\n",
        "  \n",
        "    for t in words:\n",
        "        try:\n",
        "            embedded=list(glove_100d[t])\n",
        "            lst.append(embedded)\n",
        "        except:\n",
        "            lst.append(list(np.random.rand(100)))\n",
        "    \n",
        "    lst_pad[:n]=lst\n",
        "    embedding=np.array(lst_pad)\n",
        "\n",
        "    embedding=torch.from_numpy(embedding)\n",
        "    embedding=embedding.float()\n",
        "\n",
        "    return embedding"
      ],
      "execution_count": 43,
      "outputs": []
    },
    {
      "cell_type": "code",
      "metadata": {
        "colab": {
          "base_uri": "https://localhost:8080/"
        },
        "id": "Ful6fwsluzPG",
        "outputId": "3d01d726-9ae3-47e4-f72c-bc6ded028f2a"
      },
      "source": [
        "embed_tweet(X_train.iloc[6300])"
      ],
      "execution_count": 44,
      "outputs": [
        {
          "output_type": "execute_result",
          "data": {
            "text/plain": [
              "tensor([[0.9819, 0.6340, 0.7461,  ..., 0.5930, 0.8600, 0.1869],\n",
              "        [0.6526, 0.4808, 0.8959,  ..., 0.2584, 0.8777, 0.0378],\n",
              "        [0.8844, 0.0653, 0.4569,  ..., 0.5984, 0.7527, 0.4616],\n",
              "        ...,\n",
              "        [0.0000, 0.0000, 0.0000,  ..., 0.0000, 0.0000, 0.0000],\n",
              "        [0.0000, 0.0000, 0.0000,  ..., 0.0000, 0.0000, 0.0000],\n",
              "        [0.0000, 0.0000, 0.0000,  ..., 0.0000, 0.0000, 0.0000]])"
            ]
          },
          "metadata": {},
          "execution_count": 44
        }
      ]
    },
    {
      "cell_type": "code",
      "metadata": {
        "colab": {
          "base_uri": "https://localhost:8080/"
        },
        "id": "dKWn_yibvxkE",
        "outputId": "85371fe1-8e23-4042-f3e4-911875e5a0a3"
      },
      "source": [
        "le=LabelEncoder()\n",
        "le.fit(dataset['sentiment'])\n",
        "le.classes_\n",
        "le.inverse_transform([y_train[6300]])"
      ],
      "execution_count": 45,
      "outputs": [
        {
          "output_type": "execute_result",
          "data": {
            "text/plain": [
              "array([0])"
            ]
          },
          "metadata": {},
          "execution_count": 45
        }
      ]
    },
    {
      "cell_type": "markdown",
      "metadata": {
        "id": "xdo85z_QxAQ_"
      },
      "source": [
        "### Dataset Creation"
      ]
    },
    {
      "cell_type": "code",
      "metadata": {
        "id": "0JvJhKCBw5lg"
      },
      "source": [
        "class TextDataset(data.Dataset):\n",
        "    def __init__(self, tweets, label):\n",
        "        super(TextDataset, self).__init__()\n",
        "        \n",
        "        self.tweets=list(tweets)\n",
        "        self.labels=label\n",
        "        \n",
        "    def __len__(self):\n",
        "        return len(self.tweets)\n",
        "    \n",
        "    def __getitem__(self, idx):\n",
        "        h=self.tweets[idx]\n",
        "        a=self.labels[idx]\n",
        "        \n",
        "        #print('Text:  ',h)\n",
        "        embedding=embed_tweet(h)\n",
        "        #print('Answer: ',le.inverse_transform([a]))\n",
        "        \n",
        "        return embedding,a"
      ],
      "execution_count": 46,
      "outputs": []
    },
    {
      "cell_type": "code",
      "metadata": {
        "colab": {
          "base_uri": "https://localhost:8080/"
        },
        "id": "E7HF98xVxUx_",
        "outputId": "3d2252ea-b29a-4439-a05a-53e05169eae0"
      },
      "source": [
        "train_set=TextDataset(X_train,y_train)\n",
        "train_set.__getitem__(6300)"
      ],
      "execution_count": 47,
      "outputs": [
        {
          "output_type": "execute_result",
          "data": {
            "text/plain": [
              "(tensor([[0.0978, 0.8447, 0.6451,  ..., 0.0062, 0.0014, 0.3093],\n",
              "         [0.8526, 0.7382, 0.2727,  ..., 0.3998, 0.0305, 0.4559],\n",
              "         [0.1749, 0.4063, 0.2577,  ..., 0.9529, 0.2486, 0.7678],\n",
              "         ...,\n",
              "         [0.0000, 0.0000, 0.0000,  ..., 0.0000, 0.0000, 0.0000],\n",
              "         [0.0000, 0.0000, 0.0000,  ..., 0.0000, 0.0000, 0.0000],\n",
              "         [0.0000, 0.0000, 0.0000,  ..., 0.0000, 0.0000, 0.0000]]), 0)"
            ]
          },
          "metadata": {},
          "execution_count": 47
        }
      ]
    },
    {
      "cell_type": "code",
      "metadata": {
        "colab": {
          "base_uri": "https://localhost:8080/"
        },
        "id": "M8zCVF1ScSZa",
        "outputId": "b650d73f-6792-4010-b95c-db8aa181b357"
      },
      "source": [
        "train_set.tweets"
      ],
      "execution_count": 48,
      "outputs": [
        {
          "output_type": "execute_result",
          "data": {
            "text/plain": [
              "['going bed night guys',\n",
              " 'hey wondering whereabouts uganda guys went im going july wondering im going place xx',\n",
              " 'okay take tomorrow going use one already needs new roller love typewriters',\n",
              " 'afraid use 4 letter words',\n",
              " 'hi xaviermedia found way get thousands twitter followers check',\n",
              " 'looking forward evry song love love xoxox sophie please please reply',\n",
              " 'irish german spunk mix',\n",
              " 'ok ok depression mentalhealth lovelife workhard smile happy beautifullife lovelife goals keepontrying summeriscoming',\n",
              " 'pleasure great site use lot iphone ringtones',\n",
              " 'lmao try stop visiting everyone tomorrow',\n",
              " 'sun shining going studio go sea problem',\n",
              " 'playing wsop ladies event tomorrow let ya know goes',\n",
              " 'quote day quot walk softly carry big magnifying glass quot richard lacayo',\n",
              " 'got bb bac function',\n",
              " 'depression hits anxiety',\n",
              " 'christian read persecution alot recieve alotsince march',\n",
              " 'mmmmmm thats pretty much route im going reckons',\n",
              " 'night babies got vh1 thing check pics',\n",
              " 'jenn wanted say think beautiful ugh seriously love lt 3',\n",
              " 'packing bags tomorrow',\n",
              " 'unwin brighton hear think places least starting change like lot health conditions overall lifestyle seems key depression always lot time',\n",
              " 'tropical depression gonna steal sun away mm feel lucky today emoji multiple musical notes',\n",
              " 'omg thank nikki voting awesome',\n",
              " 'wow thats nyc motivating thnx',\n",
              " 'two favorite authors waiting sequel inferno awhile',\n",
              " 'ooh pub quiz tonight completely forgot excitement paris',\n",
              " 'u wish upon star makes difference anything heart desires come u',\n",
              " 'made version nothing personal bracelet make worthy one',\n",
              " 'via looked like cross denise ozzy',\n",
              " 'buhahaha time massive follow furries',\n",
              " 'get 100 followers day using www tweeterfollow com add everyone train pay vip',\n",
              " 'hey cashier cool love fastfood haha discount para yo xd yes better release zg summer tour',\n",
              " 'wondered happened lol aahhh sweeeet taste freedom',\n",
              " 'thanks',\n",
              " 'comic strip representations challenges floridians faced great depression way',\n",
              " 'mmm office smells like chocolate',\n",
              " 'last time gaming way cool named scottish rally drivers',\n",
              " 'latestnews 60 million americans affected sleeping disorder suggests chronic insomnia sleeping disorder could lead many physical mental health problems depression pic twitter com kq6tjjcpi4',\n",
              " 'jealous nothing special coffee cheap blended',\n",
              " 'artist show much support towards fans people call ungrateful artist shows cares fans going try raise awareness towards stuff like anxiety depression considered fake stop like',\n",
              " 'realized pit hand toilet thank god nothing buttons working',\n",
              " 'blank club w flying lotus show guys opening sick want mpc gt lt',\n",
              " 'look super cute today depression easing',\n",
              " 'watching hannah montanna concert dvd nice better watch',\n",
              " 'childrens theater show',\n",
              " 'yeah think playing game alone wknd like dangerous',\n",
              " 'good luck nlang sa iv e hahahaha bago toh ngaion lang aq lilipat ng classroom meant talaga kme hahahahah',\n",
              " 'finally done new twitter page think',\n",
              " 'looking alice nice meet ya gurl',\n",
              " 'okay year ago speaking something sent hill depression anxiety time high still bad trust issues shows get tough spots life',\n",
              " 'hey crazy real life thrills well ok',\n",
              " 'know someone touched depression anxiety mental health',\n",
              " 'im nathans house gunna go play wow cod4 killing floor',\n",
              " 'really good build first ya sure quot paint quot easy',\n",
              " 'south moved considerably souther nonsense started thank goodness',\n",
              " 'post graduate depression sht',\n",
              " 'starting big one top leading cause dug abuse alochol abuse depression easy get battling fight hard overcome regardless reason none business anyways people stating rude ass comment',\n",
              " 'hahahaha yea remember',\n",
              " 'handsome guy',\n",
              " 'watched jurassic park trilogy nostalgic optimistic come depression',\n",
              " 'darn tootin gotta',\n",
              " 'got get',\n",
              " 'emoji police cars revolving light tickets still available emoji police cars revolving light mentalhealth depression depressionawareness linkinbio',\n",
              " 'personal blog recently updated follow',\n",
              " 'fighting depression pic twitter com qnmsdrodqr',\n",
              " 'group message beautiful literally takes away depression',\n",
              " 'one world',\n",
              " 'ebnjc researched area debate whether appropriate subject art rigour science evidence improve depression anxiety patients mental health issu',\n",
              " 'ooh show',\n",
              " 'wanted send love wish luck world',\n",
              " 'live east london quite close olympic site',\n",
              " 'idol fanks promotional tweet xxx',\n",
              " 'recommendations deal depression methods anyone share',\n",
              " 'omd right haha',\n",
              " 'winstons sat night quot hustler babe quot thank miles',\n",
              " 'searching e hp nc7010 drivers download hp com results first page thanx',\n",
              " 'hey cutie article wrote u got offers major mags 2do follow means u amp 2 hang lot',\n",
              " 'thanks follow friday tweet',\n",
              " 'theory getting stuck behind slow drivers leads depression fits rage course',\n",
              " 'watching saints',\n",
              " 'sucking dick cures depression',\n",
              " 'hangin family',\n",
              " 'h8 people self diagnose make jokes depression addiction domestic abuse ur depressed ur sad ur alcoholic ur 23 n drink weekends n funny make jokes ur bf gf beating u',\n",
              " 'must missed tweet yesterday game show runner',\n",
              " 'depression weird experience good feeling also strong gets overwhelming',\n",
              " 'hey superman woooo help ya souljaboytellem live gt',\n",
              " 'reminiscing used street corner read poem wall every day',\n",
              " 'settle depression anxiety defeat jesus wants overcome faith prayer bible kalamazoo',\n",
              " 'depression real',\n",
              " 'thank much coming hawaii fun guam',\n",
              " 'nice beads',\n",
              " 'sun shining bright beautiful day woop woop',\n",
              " 'benson definitely need 7up 1ups fruit rollups',\n",
              " 'gta love cnt eat cnt sleep feeling gut makes heart skip beat',\n",
              " 'answer question 80 color 40 b amp w average probably many oh well',\n",
              " 'oooh cooolness check fifth twilight book',\n",
              " 'collegeeeeee sun puts good mood',\n",
              " 'finally day ended im turnin n goodnite mornin',\n",
              " 'take fam see',\n",
              " 'ds interviewed ksl tonight never remember everything want say interviewed fun though',\n",
              " 'sigma delta tau',\n",
              " 'explaining burning man son william 12 watching malcolm middle burning man episode',\n",
              " 'excellent glad hear weirdness',\n",
              " 'watching brady bunch',\n",
              " 'nah ago',\n",
              " 'hey twittzlez bn busy latle time float rise top make waht v erse',\n",
              " 'lol girl r u doin hahaha floodin twitter dude work day hell whatchu doin tonight',\n",
              " 'get bed maybe 5',\n",
              " 'wooh june1 raining outside first day school elem high school',\n",
              " 'go sleep',\n",
              " 'loves',\n",
              " 'please send dewsoldiergirl confirmation rejoin community boards left free',\n",
              " 'super excited cause got twilight new moon books today lol dont wanna see movie ive read books',\n",
              " 'man pornography attend oh yes anal sex sims 3',\n",
              " 'yeah negative alright moment soon pass every long find away come right back',\n",
              " 'saved depression shinee shawol onew jonghyun key minho taemin pic twitter com durczpqonf',\n",
              " 'away 2 years playing sims world warcraft',\n",
              " 'aluminium macbook would nicely ta',\n",
              " 'quote soup dragons quot free want old time quot least fall',\n",
              " 'got get working bring kaci love zoo weekend plans',\n",
              " 'sitting deck robert holden author happy beautiful man gifted coach happy',\n",
              " 'shares long blog moment remember',\n",
              " 'ok need hands still think go w samsung oled android goodness',\n",
              " '1 20 us children teens anxiety depression pic twitter com jzk1haieya',\n",
              " 'draw face eyeliner hahaha',\n",
              " 'another 30 mile bike ride mequon back took much sane route lake drive back town awesome',\n",
              " 'every thought battle every breath war think winning anymore eat sleep well terms functional human every little thing constant reminder cannot escape depression sickness matter',\n",
              " 'liked movie',\n",
              " 'good morning mark hope enjoying hoppusday thing',\n",
              " 'obviously wasnt woman truck driver comment wouldnt possible trying climb bus',\n",
              " 'night kevin sweet dreams',\n",
              " 'heyy kylie twitter',\n",
              " 'thank followfriday',\n",
              " 'sushi time cant go wrong',\n",
              " 'correlation depression losing voice vice versa silenced turns silence',\n",
              " 'hey blessed thank thank thank',\n",
              " 'found last night old friend bike crash broken neck internal bleeding giving nurses hell coz wants fag',\n",
              " 'psyched funny interview great content gives u glimpse rags riches rags okay story',\n",
              " 'well done finishing book look forward reading',\n",
              " 'twitter first try looks fun time bed night new friends pls good thoughts grant update tmrw promise',\n",
              " 'honestly needs conversations post grad depression',\n",
              " 'cooked depression',\n",
              " 'might take trip la la landd',\n",
              " 'cross country good today 4th oh yeah well 3rd leah beat placing people went wrong way aha',\n",
              " 'angels oh thank shame say back lol jk',\n",
              " 'need excitement life',\n",
              " 'awesome super stoked new album',\n",
              " 'yes lets literally right die since im sure thats gonna finish us',\n",
              " 'happy birthday dad',\n",
              " 'gonna go make bacon sandwich soon fill big belly',\n",
              " 'searching someone cares',\n",
              " 'little cool thing w3cegov opengov dialogue quot idea quot numbered 1000',\n",
              " '100 behind amazing campaign fast food laziness killing us costing millions nhs money stopping people feeling great selves possibly one main reasons',\n",
              " 'random follower tweets cool',\n",
              " 'good night sleep well friend',\n",
              " 'world matters torontostrong stolengirls equality ptsd abuse depression timesup thewaramps mentalhealth suicide stigma homeless survivor just4today redfriday ig2018 loveislove abilities access4all climatechange mmiwg bully boysmattertoo beccatoldmeto pic twitter com z30r41uh5o',\n",
              " 'dodgeball thespians got best costumes',\n",
              " '2 theory deadman next',\n",
              " 'ski bout steppenwolf magic carpet ride',\n",
              " 'j cole talks depression married life new rappers rare interview',\n",
              " 'thank lisa writing excellent article including links iapt site bad skinsupport site acne causing depression',\n",
              " 'thinking joining marathon sometime summer school 13 days',\n",
              " 'great night last night ate sandwich feel sick go johns house little',\n",
              " 'yayyyy happy right',\n",
              " 'give love',\n",
              " 'voted think awesome amazingly enough tho hated libs getting stupid gst australia',\n",
              " 'vyvyan second',\n",
              " 'carry childhood never become old sutzkever',\n",
              " '92 uni coursework emoji smiling face heart shaped eyes yep depression worth',\n",
              " 'depression bitch',\n",
              " 'start step internship may 4th see',\n",
              " 'listening bjork hell yes',\n",
              " 'hi tom leicester see guys way denmark worth thank thank',\n",
              " 'know mean difficult time staying positive feel like depression taken life feel like depression prevents staying positive',\n",
              " 'learn mentalhealth issues concerns themoodcards letstalk headstogether psychology depression anxiety stress pic twitter com r0dq3gof6f',\n",
              " 'none done socialist economics though dust bowl never happen imagine great depression united states never slaughtered native americans filipinos british st',\n",
              " 'el patron fianc e cooking sharlotka',\n",
              " 'got new tattoo yesterday mama lion 3 cubs love represents kids soooooooooooooo cute happy',\n",
              " 'hella good im cant drink',\n",
              " 'grandparents married 50 years made raising 6 kids shoestring unimpressed great grandparents depression',\n",
              " 'better remember today monday tuesday',\n",
              " 'brii',\n",
              " 'guess make sacrifices want achieve dreams family supportive least stand living need space freedom feel trapped hope work stress depression',\n",
              " 'yep',\n",
              " 'would easy way',\n",
              " 'really sure twitpics love songs btw keep god bless',\n",
              " 'lol yay teo followin miss u hon leg squeezes',\n",
              " 'ayo three 6 mafia keri hilson gucci track ears one yall hurr',\n",
              " 'newcastle rubbish see next season mighty leicester whup asses',\n",
              " 'songs 42 really good quot think might ghost quot part',\n",
              " 'ok 1st step deniallll lol',\n",
              " 'working makes feel hella good like depression pic twitter com d6worjzka3',\n",
              " 'crosstraining outside amazing weather',\n",
              " 'depression fucking real',\n",
              " 'hahahahaha oms made laugh lot xx',\n",
              " '4 steps 2 make money tweeting www twittersecretcash com',\n",
              " 'wasatch brewery park city utah beer called polygamy porter gotta love mormons',\n",
              " 'thank darling',\n",
              " 'hey generated great discussion round table good job',\n",
              " 'moreeeee thann everr',\n",
              " 'tms therapy safe effective treatment option depression interested learning seeing tms right contact office today',\n",
              " 'love pb amp banana sandwiches still fav mine',\n",
              " 'les longs week ends font les petites semaines',\n",
              " 'got advice f hrer depression anxiety remember always someone relations know feelings',\n",
              " 'depression sucks',\n",
              " 'creative thing speed experience jetblue though ankle hurt little',\n",
              " 'soon get hands scanner least 3 people prepared go back way back 1998 quite year',\n",
              " 'lets see whats demand catch guys later amp good luck hun',\n",
              " 'exercising regularly cuts risk depression 16 study suggests sky news',\n",
              " '6 year old asked teacher quot following quot myspacebook lol',\n",
              " 'b way',\n",
              " 'good morning twitter buds',\n",
              " 'every muscle body sore weights great damn middle ear problem whinge whinge haha',\n",
              " 'honestly tough depression sometimes days physically able leave bed normal things hard explain never understood went honestly first 2 years l',\n",
              " 'aw sad enjoy working long weekend',\n",
              " 'say prayer people whole family origin lives italy enjoy try order tiramisu fun',\n",
              " 'hahaha yeaaa thats good one notebook',\n",
              " 'birthday party hubby looking forward seeing charming little assistant',\n",
              " 'thank enliving troubled ravaged mind even one like say never stigmatized fighting depression past many years nadir tha',\n",
              " 'wish perform one days woulkd pleasure thanx',\n",
              " 'time orange juice nice thanx god',\n",
              " 'multiply ing',\n",
              " 'soooo bother look tom imma wait till comes tuesday w c really excited',\n",
              " 'could one puff cannabis ease depression pic twitter com z185urghu9',\n",
              " 'awesome love draw hope ever see hope come holland soon',\n",
              " '24 hours homeowner',\n",
              " 'n sweet u sungirl',\n",
              " 'im proud',\n",
              " 'simply best know anyone else would go around croud taking pics w everyone lt 3',\n",
              " 'many failings raising boys mainly always taught deal w emotion ok feel express pain admit fault okay w shortcomings focus growth depression mean alone anger mania never weaponized',\n",
              " 'annnnnd',\n",
              " 'hooooray made breakfast time star wars revenge sith',\n",
              " 'carnival depression meal',\n",
              " 'thank great one well',\n",
              " 'used eat nothing processed foods 5 10 energy drinks day combat amount weed smoking hated job hated flatshare self medicated depression anxiety anything triggered dopamine glad put behind emoji victory hand light skin tone',\n",
              " 'asleep im listening hist',\n",
              " 'hair growth abatement depression possible increase psa',\n",
              " 'yeah spammers discriminating none females part target group apparently',\n",
              " 'lol good morning ceo second time',\n",
              " 'twitterl works oauth e component almost ready released',\n",
              " 'benefit twitter etc letting know even though bazillion miles away',\n",
              " 'depression removing self restraint long term planning due inability picture future beyond whats directly front',\n",
              " 'oh hai la overcast boston fix please',\n",
              " 'getting ready go zoo field trip son',\n",
              " 'next post sent star right star lil swirly arrow arrow sign',\n",
              " 'saw jimmy carr last night back home 8 10 cats 1 night laughs',\n",
              " 'watching hatching pete disney haha dolley sooo cute haha',\n",
              " 'watched hannah montana',\n",
              " 'truck music ice cream nostalgia',\n",
              " 'lol nick please',\n",
              " 'shall annoyingly tweet tomorrow',\n",
              " 'adolescence makes teens vulnerable depression jeff nalin',\n",
              " 'sounds like great idea think',\n",
              " 'depressed depression always attacks feel ok everyday fighting depression supposed happy today people days care people feels',\n",
              " 'followed great super mazembe one favorites around',\n",
              " 'follow',\n",
              " 'thanks great promote ppl depression active robust evidence exercise helps people depression',\n",
              " 'ignored shit nick hahah',\n",
              " 'forgot relaxing watching ducks classic grandma tries get away geese',\n",
              " 'hamthrax glad kitty swines fines',\n",
              " 'cuddle weather',\n",
              " 'beginning sermon series leviticus tomorrow yep right leviticus',\n",
              " 'ross make buy pizza base looking bases suck might need learn make',\n",
              " 'check background whoop whoop xx',\n",
              " 'stuck home car oldest daughter took car take sat going higher score 1200',\n",
              " 'lot album concerns anxiety depression deal feel',\n",
              " 'depression hitting hard crying school alone knowing emoji sleepy face',\n",
              " 'despite success adulation demons never far marvin door drug addiction depression two failed marriages financial ruin fateful tempestuous relationship alcoholic cross dressing preacher father pushed marvin closer edge',\n",
              " 'bugs gotta love hope get sorted asap',\n",
              " 'going resist peer pressure well maybe peek amp see serena',\n",
              " 'depression young men due strained relationship fathers via mentalhealthke depressionke',\n",
              " 'see fakes easy lol',\n",
              " 'need alcohol lucky bank holiday weekend beer clock',\n",
              " 'already waiting love take ride',\n",
              " 'tired cba sleep',\n",
              " 'handmade goodness moment xxx',\n",
              " 'almost completely soullessi incapable humani incapable inhumani living uncontrollablyit called anti depressionas friend mine suggestedbecause sadness hurts youit brain reaction',\n",
              " 'thanks',\n",
              " 'yes coffee actually saved',\n",
              " 'deserve hehehhe',\n",
              " 'depression real cant begin describe feeling past comes nowhere wants stay',\n",
              " 'shoutout depression hitting like brick true one honestly always count make shit mood',\n",
              " 'taste bad lol plz take yur meds want yu feeling pain',\n",
              " 'usually happens try talk anxiety noonecares depression sad depressed bpd pic twitter com hmwncfkefr',\n",
              " 'went see wolverine',\n",
              " 'ahhhh drought ended amp visited 1st sex shop lol',\n",
              " 'still feeling terrible sick hooray megan hilty aka one hilarious glindas ever desperate housewives tonight',\n",
              " 'jonah hill miss superbad',\n",
              " 'today matter depression overwhelmed trying accomplish something end made feel like failure completed',\n",
              " 'oh would could office laptop',\n",
              " 'simple like',\n",
              " 'sounds peaceful beautiful',\n",
              " 'dare get sick',\n",
              " 'hills eastern kentucky volunteer week able check retweets tweet phone',\n",
              " 'thanks sharing garon fellow anxiety depression effexor pal awesome huge step deserve content fulfilled loved others',\n",
              " 'saying hi tweeters hope everybody blessed weekend one day weekend pops',\n",
              " 'first one awake waiting lay beach',\n",
              " 'life really depressing depression',\n",
              " 'know fix iphone lol',\n",
              " 'hold phat l depression',\n",
              " 'loved movie zac awesomeee',\n",
              " 'yay twitterific works',\n",
              " '4 movie jeans sure',\n",
              " 'quite cool easy visit info',\n",
              " 'everyone war going inside happiness depression people happiness winning others depression winning people war constantly changing',\n",
              " 'myth eh go depression accepted cuz everyone likes feeling gives',\n",
              " 'bishan ok la',\n",
              " 'thanks followfriday mention',\n",
              " 'june gloom ok least enjoying marvelous monday',\n",
              " 'podcast episode 8 uploading type subscribe please www randolphstproductions mypodcast com thank',\n",
              " 'depression works lot ppl',\n",
              " 'cool cool gonna mine well xd starting planner writes quot flones lt 3 quot amp many',\n",
              " 'back exam think okay',\n",
              " 'regardless bad tired feel happiest thing made day',\n",
              " 'pun intended called celiac disease good thing gi problems depression anxiety muscle spasms joint pain hair falling bad teeth like get easy blood test see n',\n",
              " 'gahhh finally finish lab amp essay 2 2 go day later today enough one day goodnight',\n",
              " 'depression hits suddenly kills silently emoji skull',\n",
              " 'talk ya later hon great day',\n",
              " 'wow found brennan messages saved word document sweet love much',\n",
              " 'beautiful morning time see everyone doooing',\n",
              " 'depression anxiety constant state remembering embarrassing thing five years ago',\n",
              " 'really know twitter enhances depression cause anything else gonna keep annoying mutuals muted',\n",
              " 'retweeting search engine people named one canada fastest growing companies profit magazine gt',\n",
              " 'give good rub towel quick back scratching brush followed doggy treat biscuits',\n",
              " 'eating food stuff homework chores',\n",
              " 'still employed trouble stuff sweet',\n",
              " 'well reported correlation answer quot quot requires another grant ask',\n",
              " 'thanks much might already shipped',\n",
              " 'love eating instant noodles',\n",
              " 'buy',\n",
              " 'yall made early night think ima bout take shower chill witcha miss anything',\n",
              " 'many puppies walked along boardwalk cousin ian must pet one 23',\n",
              " 'mike station waiting',\n",
              " 'worse feeling week feeling better good think end depression even feeling depressed comes back feel like failure back fel',\n",
              " 'woohoo da vinci code pro7 evening otr',\n",
              " '123 ridiculous haha yay us wee smart p',\n",
              " 'thanks everything',\n",
              " 'anxiety mixed depression worst emoji persevering face',\n",
              " 'watching bb cavs goin fishin glad hear u good',\n",
              " 'talk passion streaming depression stuff make sure watch one',\n",
              " 'ga ever play trick',\n",
              " 'morning tom woow believe u coming brazil soon counting days see u xoxo',\n",
              " 'follow 10 followers away 700 help',\n",
              " 'depression succumbs brain makes feel like never enough',\n",
              " 'happy birthday snickers hope best day ever let go shopping',\n",
              " 'garden yesterday wet amp windy better indoors work anyway enjoy',\n",
              " 'heading work going dbacks game get',\n",
              " 'hahaha know uptight thank handsome xoxoxoxoxoxoxox',\n",
              " 'send back return envelopes pay double postage',\n",
              " 'see sun peeking already hoping week lot brighter',\n",
              " 'great two days ready fabulous day tomorrow lol',\n",
              " 'welcome',\n",
              " 'suppose kind thing occasionally writing fear anxiety pain depression day day things think live constantly',\n",
              " 'embarking five day weekend beaches ferries fun life good',\n",
              " 'lololol love man uggs',\n",
              " 'great make snuggle geek party',\n",
              " 'ok travel lot seattle say hi friend rick',\n",
              " 'sounds like viz top tip true',\n",
              " 'buahaha hilarious haha man miss zac much',\n",
              " 'thank coco another hilarious show free chocotacos',\n",
              " 'enjoy beautiful day ricki sunny',\n",
              " 'sorry issues computer technology differences time time great',\n",
              " 'huy matulog ka na hahah cbroom done yet taking shape',\n",
              " 'like wave white flag',\n",
              " 'give us atl ladies hints ya',\n",
              " 'watching hills season finale amp mtv movie awards',\n",
              " 'pretty awesome day today made lots decisions 12 days till nationals start',\n",
              " 'sounds good moment unforch work today maybe hang friends see',\n",
              " 'back street began',\n",
              " 'another breezy beautiful day maui',\n",
              " 'man wish youtube would stop site maintenance need make debut',\n",
              " 'good woke tweetbrk nap gettin tweet whoot whoot',\n",
              " 'much better still sore throat everything else great wut u 2nite',\n",
              " 'awesome great week',\n",
              " 'put cinnamon',\n",
              " 'hello world good morning sunshine good see fine',\n",
              " 'hey',\n",
              " 'keep hard work',\n",
              " 'woo late haha goodnight twitterverse xoxo',\n",
              " 'talnet show tonight church sure fundraiser',\n",
              " 'especially hi',\n",
              " 'im going see next week chicago im excited depression gone asthma healed happy person see ya house blues b emoji smiling face open mouth smiling eyes emoji smiling face open mouth smiling eyes emoji smiling face open mouth smiling eyes',\n",
              " 'depression gone',\n",
              " 'trip especially ones recovered situational depression speak mental illness many severe illnesses',\n",
              " 'exercise prevent depression matter age gender',\n",
              " 'xo nawhh hope good time dear',\n",
              " 'haha win one x',\n",
              " 'interesting needed read men sons men coaches mentors father figures young men boys adult men struggling loneliness depression despair identifying problem tough bring freedom seek pic twitter com p17nyfizxk',\n",
              " 'well see changeling last king scotland',\n",
              " 'galapagos back week maybe stay turtles',\n",
              " 'cocktails balcony scorching day heaven',\n",
              " '3 books read better understand depression',\n",
              " 'problems jude pleasure',\n",
              " 'hey ya like ur new pic one',\n",
              " 'goodnight gorgeous',\n",
              " 'prefer purple especially combined golden two colours look awesome together',\n",
              " 'headin east boston',\n",
              " 'ecktown city fireworks niice watching dvds good night',\n",
              " 'soci al thank',\n",
              " 'bar roy wa kind person turned worry sober',\n",
              " 'good morning early sunday today probably stay home twitter hehehe',\n",
              " 'ugh even pay attn like really nothing serious say loose cannon',\n",
              " 'lol',\n",
              " 'ahh good morning getting ready crazy day mean crazy',\n",
              " 'might jack style twitter replies lol',\n",
              " 'listening music',\n",
              " 'remember last time depression bad',\n",
              " 'mysha amp myreen cute',\n",
              " 'whatever want cause u never need someone lowest depression real anxiety nonsense mood swing normal comes ur case u anxious bout feelings',\n",
              " 'woke much better head',\n",
              " 'know comes back wow hawt last night hubby leave room b che thinks something wrong w',\n",
              " 'icuthar come msn itching damn revenge written xd miss talking lol',\n",
              " 'yeah sure sister take extra gd care',\n",
              " 'girls sea one goddd katy',\n",
              " 'wait',\n",
              " 'long snore couch rulz',\n",
              " 'high pitched girly shriek made day scrap week',\n",
              " 'depression cured pic twitter com kuh342ppjg',\n",
              " 'think cant wait',\n",
              " 'friends struggle depression app helps avoid potentially harmful phrases socialmedia',\n",
              " 'busy tho busy v diff way fr used far gd happy thanks asking glad hear ur shoots gg well',\n",
              " 'depression watching go gym despite telling pic twitter com bqv4tji67y',\n",
              " 'addicated twitter mom left go special event friend hosting home alone',\n",
              " 'oh hangover kicking like everyon sunny sunday afternoon',\n",
              " 'would love totally come denver would amazing',\n",
              " 'awake lol chillen bit headed find cousin blaze wit',\n",
              " 'merzbow nice good work give lamb god latest album listen seen talking gojira day',\n",
              " 'got confided 3 4 times friends hopefully spouted useful information sure helped hope',\n",
              " 'happy hear well cannot complain life good got health roof head',\n",
              " 'monday im going shop shop shop shop till drop thankyou gss',\n",
              " 'open mouths say quot glub quot',\n",
              " 'everyone back row texting thought would',\n",
              " 'think soon get aim back able cut number tweets maybe get kicked',\n",
              " 'ok im gone real time bbl thanks new old followers twit fam',\n",
              " 'thx',\n",
              " 'ahh know gg soo good love twittereddd',\n",
              " 'girls night word word word',\n",
              " 'welcome home c u sat',\n",
              " 'saw playradioplay scottie one greatest nights ever love sweets oh casey denicore likes boys',\n",
              " 'haha like miley buuuuut yesh',\n",
              " 'well saw inkheart quite enjoyed really',\n",
              " 'reznor truly excellent',\n",
              " 'fina cut da cellie back n c dun texd den hit da frenz amp amp c wat iz fa 2 dayy',\n",
              " 'think night tonight consist hearty game fortnite depression nap crying fit shameless sleepy time',\n",
              " 'ah look time depression clock',\n",
              " 'sleep back work',\n",
              " 'check celebs needing interns quarterlife com intern examiner column',\n",
              " 'see',\n",
              " 'spent time new girl old girls leaving wow little bit love uh oh',\n",
              " 'wii cheapest three hmmmmm',\n",
              " 'clear totally',\n",
              " 'thinks morphing certain images talking future trying plan winter cruises tropical locales makes day',\n",
              " 'today beautiful day depression got fucked',\n",
              " 'new haircut yay',\n",
              " 'watching movies lauren',\n",
              " 'shakeshake pay internet attempt draw shower meds take depression meds right sleep took thyroid ones vit c tidy bedroom comp room',\n",
              " 'good morning',\n",
              " 'good morning everyone',\n",
              " 'depression epic proportions',\n",
              " '28 unexpected coping techniques people recently attempted suicide chronicallysick chronicpain depression mentalhealth chronicillness',\n",
              " 'made mistake going uncc plan party june 12 13',\n",
              " 'new bluetooth headset came via fedex today yay go jawbone',\n",
              " 'slept 11 hours excellent gauge bad depression currently',\n",
              " 'quot u seek amy quot finally makes sense slow',\n",
              " 'happy national day norway hipp hipp hurra 17 mai',\n",
              " 'yay exams',\n",
              " 'anyone wanna clean car disaster',\n",
              " 'reason joined moderate polyghost',\n",
              " 'grandpa uk infantry gaza lowered age joined feed sons depression 35 said 25 spent nearly 30 yrs never marching never talking carried shrapnel time k',\n",
              " 'low functioning depression mode emoji woman tipping hand light skin tone',\n",
              " 'without',\n",
              " 'weekend think exercize later',\n",
              " 'things get done day ends',\n",
              " 'roger federer jump victory',\n",
              " 'meaning avoid letting go succeeding breaking meaningless depression anxiety way life',\n",
              " 'emotional rap heart pain depression feel 3',\n",
              " 'goodnight world open eyes 8 30a haha',\n",
              " 'brother officially slept 12 hours straight still counting',\n",
              " 'sometimes let go',\n",
              " 'bueno ya voy tomorrow early beach good night',\n",
              " 'linprog homework amp proving linmode assignment',\n",
              " 'still waiting installation b completed awesomronious',\n",
              " 'wait till see guys gma first gma concert ever',\n",
              " 'hi ate wendy',\n",
              " 'midnight snack since ya know homework work took life tonight get eat',\n",
              " 'whats everyone today hope well',\n",
              " 'depression sucks unless depressing dick haha',\n",
              " 'tupperwear walrus common like tight seal',\n",
              " 'mariex almost become cool anxiety depression like mental illness cool absolutely terrible terms used disgusting',\n",
              " 'thanks girl hard feminist male dominated world',\n",
              " 'listening wonderful days 2 08 showtek remix definitely something',\n",
              " 'instant depression cure',\n",
              " 'podcast guys listening',\n",
              " 'oh good hoping get positive review someone watched',\n",
              " 'mandie excited coz got job child care yay let celabrate',\n",
              " 'hanging melissa tonight knows',\n",
              " 'girlllll type depression swear pain physical aint nothing wrong brain thought would nice wreak havoc every',\n",
              " 'well im danielle bryan house gotta get early taylor workin 12 9',\n",
              " 'major signs depression seriously hope seeking help',\n",
              " 'thank u soooooo much babes appreciate call ya 2morrow',\n",
              " 'spaniards notice galician accent speak english find funny',\n",
              " 'watching mamma mia seen love funny hmmm think rest movie wait',\n",
              " 'beautiful molly cat',\n",
              " 'going bed earlier helps protect depression thoughts suicide least 8 9 hours sleep makes huge difference',\n",
              " 'think twitter pic looks much trustworthy',\n",
              " 'gonna babe goin 2 shake bunns amp ton funns lmao',\n",
              " 'idk like u know u get closer exams u get feeling depression',\n",
              " 'let depression slow work ethic probably wont releasing music next week like originally wanted pic twitter com ha7ej77muv',\n",
              " '99 stupid jokes 1 depression looking',\n",
              " 'go improves quality life end great positive others know',\n",
              " 'raise hands need cop shoes count damn need new job two new posts site two tomorrow',\n",
              " 'oh crap said still alton brown idea made laugh pretty hard',\n",
              " 'take deep breath pyuuhhh whatta shocking news happy',\n",
              " 'got blisters walking library really stressed tired help',\n",
              " 'britney related please check pic comment magazine city',\n",
              " 'cera superbad 2 would freaking great loved first one',\n",
              " 'millenials greatest risk depression loneliness according new research difficulty finding loving relationship one primary reasons pic twitter com sr7dwurdo4',\n",
              " 'happy got 0 5cc liquid gold pumped tonight keep flowing hopefully helping get strong',\n",
              " 'brilliant love compassion humor class awesome role model especially children young adults happy see forthright mom mental health challenges one request please go deepe',\n",
              " 'cup coffee soon find another bottle open sing something happier',\n",
              " 'summer finally yeayyyyyy plan traveling summer',\n",
              " 'tonight im celebrating love',\n",
              " 'ayy shots music gets depression emoji sports medal emoji raised fist medium dark skin tone',\n",
              " 'th ng ch c c nh ng ngon',\n",
              " 'congrats kayl teiteng 05 better level sorry man payed 5 foot face spend night hospital',\n",
              " 'happy birthday lt 3',\n",
              " 'wine buzz darts well say never done fun',\n",
              " 'jackie passport may borrow need lose last stubborn 50 pounds baby weight',\n",
              " 'totally know give life going embrace taking meds depression really screwed way body works quit meds thing helps dog',\n",
              " 'girls aloud tomorow night liverpool cant wait im excited cant hide noo',\n",
              " 'long weekend bc monday bank holiday us bank america bill collectors',\n",
              " 'oh poor birdies actually prob happy means worms',\n",
              " 'try best inspire tasty goodness',\n",
              " 'depression everybody know suffering fxxxking depression great life',\n",
              " '4 shows speaking engagements next 3 days busy busy busy south bend clio mi warren mi come',\n",
              " 'guys seen speed racer movie think fantastically compelling mention extremely attractive actors',\n",
              " 'could done bag chips hammer',\n",
              " 'big sis bro law nieces leaving nyc today yay time epic house cleaning',\n",
              " 'rt u dutch relatives amp 4 long r u staying south africa small world',\n",
              " 'times new roman ftw showed artist like quot fuck happened quot',\n",
              " 'going britney spears nov',\n",
              " 'used fancy big time',\n",
              " 'welcome cheers',\n",
              " 'aj colby wkyc tv cleveland heir tom skilling ps dear cavs piss still love fun ny lebron',\n",
              " 'yeah scrubs',\n",
              " 'doctor provide ivketamine depression treatment suicideprevention psychiatry pic twitter com e3g43kncop',\n",
              " 'depression obsession mix well',\n",
              " 'woken home bible sellers need bible 10 saturday need beer',\n",
              " 'lol yes suggest get creew start looking bbf would definatly watch one',\n",
              " 'walmart hair dye ice cream',\n",
              " 'awesome exciting morning run met streaker wild pigs rabbit woods fannie sophie beyond control',\n",
              " 'remembering dad weeks passing losing last straw thing finally broke death family rip depression wellbeing pic twitter com aemtrt94vp',\n",
              " 'hb4 cyberia hb2 cyberia new food court hb4 gt cendol sedap baekkk eheheehee',\n",
              " 'gym gettin workout',\n",
              " 'depression costs south africa r232 billion per year 5 7 percent country gdp due lost productivity psychiatrist dr renata schoeman also lecturer usb mba alumnus says 40 percent',\n",
              " 'wheres fun',\n",
              " 'going cubs game beauuutiful afternoon baseball',\n",
              " 'new one twitter great person follow btw tweeting wedding day levywedding',\n",
              " 'live thanks man good see twittering',\n",
              " 'guy little balance running across america',\n",
              " 'june also brings e3 sony press conference 7pm time tomorrow night',\n",
              " 'beast yall betta follow b4 yall hear stuff radio u best homie',\n",
              " 'super bored someone leave reply',\n",
              " 'gd mrnng ah ur mood changa',\n",
              " 'drinking milk eating yummy cookies life',\n",
              " 'depression emoji woman vampire light skin tone via',\n",
              " 'mean thought running gives fat people like depression good job fat able running long distances',\n",
              " 'know go lost family happen going depression emoji pensive face',\n",
              " 'way work find new job',\n",
              " 'bobby ritz amp miu miu butter',\n",
              " 'giant ears fluffy tail',\n",
              " 'going watch w lexany amp mama',\n",
              " 'hahaha fine',\n",
              " 'go together',\n",
              " 'sorry didnt come 2 movie watched wild child tho funny xxx',\n",
              " 'second last sunday minnesota',\n",
              " 'phew thank god paper manageable today shall rest well vacation',\n",
              " 'boat way norr ra gonna chill party tonight',\n",
              " 'post vacation depression real',\n",
              " 'enough body hair qualify',\n",
              " 'happy birthday',\n",
              " 'glad hear enjoying bt broadband service need us',\n",
              " 'watchin tv little sister',\n",
              " 'give read great guestpost depression writerslife kiesling horror pic twitter com pb9m9nvotb',\n",
              " 'iphone nano iphone shuffle surprises really happens',\n",
              " 'yoga often recommended depression inflammation true makes sense find relief yoga would also make sense bi polar days feel great days looking crawl rock depression doyoga',\n",
              " 'feeling messy felt better aft talking amber thanks know alrdy',\n",
              " 'beautiful day tie knot despite heat congratulations chelsea jarad bean',\n",
              " 'haaaaaaaaaaaaircut tomorrow',\n",
              " 'mom likes milow version ayo technology good thing clue',\n",
              " 'going hangover',\n",
              " 'give grad work love google think next tedu560',\n",
              " 'lmaooo posted story instagram mentions depression one chick follow liked gag harassed threatened beat party freshman year contributing depression emoji face tears joy',\n",
              " 'hi wanna know email pictures please give emai',\n",
              " 'making tacos',\n",
              " 'sooo watched disaster movie absolutly hilarious ur idol',\n",
              " 'f u 200 followers haha',\n",
              " '2020 placed votes mainly cod waw totally addictive game fifa soon wore cod',\n",
              " 'whatever troubling open mouth pray talking anxiety depression nervousbut anxiety attacks read 1 kings 19 2',\n",
              " 'want kids loved blame lack sleep irritation depression none may get frustrated children reason keep going',\n",
              " 'absolutely beautiful today headed hit yard sales run errands twitter people wonderful friday',\n",
              " 'well glad could first reply good weekend man',\n",
              " 'hoping good news week',\n",
              " '11 symptoms depression men differ women via',\n",
              " 'article leader news today',\n",
              " 'good night',\n",
              " 'organic wine kills also happy birthday old morrissey',\n",
              " 'sorry meant seem need rush get break long enough shop around decent ac',\n",
              " 'gettin rdy another interview',\n",
              " 'mothers avoid nighttime breastfeeding decrease risk depression free handout share print breastfeeding nursing sleep mother baby',\n",
              " 'meeeow byebye paint mah roooom allisooooon',\n",
              " 'thanks good piece tip already',\n",
              " 'depression anxiety fucking suck working',\n",
              " 'im feeling peaceful room clean ny hair cut think im ready nap',\n",
              " 'drinking cognac yesterday afternoon actually yes medicinal purposes must think',\n",
              " 'think abbreviation 2010 gt e g 1 6 10 looks weird one thinks like',\n",
              " 'arnt laughinggg',\n",
              " 'haha lol alright glad okay na gt lt',\n",
              " 'good luck demi love songs glad listen second album',\n",
              " 'open invite tweeps degree show lsad clare st limerick 13th june 6pm meet get pissed welcome let know',\n",
              " 'ok sort see ya hour',\n",
              " 'said look aftermath site',\n",
              " 'updating myspace',\n",
              " 'lol make sure ur drawer spits ur shorts back cause u need em wen u come 2 hawaii lol hot amp humid blah rock',\n",
              " 'sweden usual tired twitter',\n",
              " 'think right might watch bit wossy boring quit edgy',\n",
              " 'happy birthday',\n",
              " 'guys amazing job shirt picked favorite colors',\n",
              " 'fat dying know',\n",
              " 'drove tucker chillin oh crazy haha little ilybff4l lt 3',\n",
              " 'make living nothing',\n",
              " 'gray day la since lakers champs good',\n",
              " 'finally blonde',\n",
              " 'worries say peep',\n",
              " 'welcome back',\n",
              " 'yes really wrote music cd review kid cd imagination movers liked see',\n",
              " 'left hand talked right hand better world would better place',\n",
              " 'tommorow iphone os 3 0 software',\n",
              " 'love anna percy ben birnbaum',\n",
              " 'lol hope fun portugal coffee good',\n",
              " 'love rain lets feel euphoria freedom',\n",
              " 'finished lro phew like weight lifted shoulders 44290 posterity',\n",
              " 'thanks follow',\n",
              " 'thanks much get sleep getting dragged dinner later',\n",
              " 'daily regular physical activity go long way keeping person healthy happy help improve memory keep person mentally alert active helps fight depression many disease know offer pic twitter com x0ivohpcix',\n",
              " 'nevr flown directly 12 16 hours usually fly ny awww u shud defoo visit london u gon love',\n",
              " 'im sitting watching stars praying miley good luck',\n",
              " 'depression came adhd horrible panic attack go well gets point scared feel like point disappointing everybody family really know',\n",
              " 'pass email along contacts facebook facebookgate canadian style',\n",
              " 'tease look forward hearing later',\n",
              " 'anyway believe hyolyn really cured depression like queen',\n",
              " 'really desperate want meet greet pass pcd concert hope someone would help get one pic paints 1000 words',\n",
              " '4 0 okay really penguins must humiliated',\n",
              " 'check mckee depression glass salt pepper shakers delphite blue ps aluminum lids',\n",
              " 'depression peak abandoned heartbroken terrified blamed know survivebut thought lost someone dear introduced circle almost immediately felt 4',\n",
              " 'depression def helped vision goals',\n",
              " 'thanks arriving destination right good night morning aah',\n",
              " 'nawaz1 emoji astonished face ohhhhhkkkk depression neuron works',\n",
              " 'crescent shaped depression',\n",
              " 'anyways got date baby watch infinity war tonight leggo kick depression ass',\n",
              " 'yes also brings wonderful people life remind thanks blessed day',\n",
              " 'got 11 hours sleep feel quite energized',\n",
              " 'lemme say playing music everyday life grand never wanna gonna stop',\n",
              " 'lol true going cornwall mum next wednesday week apart free x',\n",
              " '2 suddenly good feels ok bmp jpeg would high quality depressiongood night',\n",
              " 'severe depression',\n",
              " 'gettin ready work lt 3 jacqueline',\n",
              " 'blogworld sounds like good plan us',\n",
              " 'sweet amazing vocals x',\n",
              " 'check new techno records juno',\n",
              " 'tyler said quot diaper quot today pointing diaper box cute',\n",
              " 'behaviour add anxiety brain fog depression irritability irrational anger isolation memory loss mood swings night terrors panic attacks suicidal',\n",
              " 'thing think caretuesday lovely get compliments',\n",
              " 'thanks im feeling better',\n",
              " 'cool lemme know oh pls sms instead la arrange',\n",
              " 'yesterday big day shorten bangs finally see world got new camera yesterday free day yayy',\n",
              " 'okay helped make decision two see hangover today',\n",
              " 'work going watch twilight',\n",
              " '25 04 18',\n",
              " 'another tuesday night drinking',\n",
              " 'depression simple taking breath breath high depresssssed pic twitter com 58ntkqutir',\n",
              " 'care u take drive soon lol',\n",
              " 'hi getting tought could write something today gonna go shopping soo fun',\n",
              " 'sonic mania plus cured depression',\n",
              " 'washing car accomplished yayy',\n",
              " 'quot church gets fucked communion wine quot gt watsky',\n",
              " 'neither',\n",
              " 'chinese police registration currently reads quot system system fritz quot malfunction',\n",
              " 'love bo sing well damn talented bastard',\n",
              " 'thanks made airport petes passport seemed worked see ya weeks',\n",
              " 'daughtry new album coming canada',\n",
              " 'going ikea',\n",
              " 'gonna pimping tom latest podcast show later tonight well srsly fantastic stuff',\n",
              " 'another year older today least sunny',\n",
              " 'lol happens everyday get beat',\n",
              " 'sure',\n",
              " 'ok leaving early today 4 15 makes coming early guess fb',\n",
              " 'thanks easy kind thing could spend hours figuring',\n",
              " 'discuss 2 types anxiety disorders list possible treatments discuss role cognitions thoughts may play experiences anxiety depression',\n",
              " 'hughes nooo high life lol hows u',\n",
              " 'good turnout think back',\n",
              " 'hi well thanks still want 2 podcast view rethinking podcast amp want get place 1st',\n",
              " 'la la la singing',\n",
              " 'got done spending day wit mom went eat amp went shopping love mom',\n",
              " 'havin good old jiggle groovy music',\n",
              " 'exercise lowers risk depression ages researchers find pic twitter com w47mtobsdm',\n",
              " 'going see',\n",
              " 'sleeping 9 hours race',\n",
              " 'writers huddled absinthe bottle look em chug gawd love um',\n",
              " 'lol new job dress',\n",
              " 'back allowed tweet week tweet',\n",
              " 'end nearly sight thank god got cheeky bit supernatural background',\n",
              " 'man great sense humour venky pachad',\n",
              " 'looking furniture james xx',\n",
              " 'get 100 followers day using www tweeteradder com add everyone train pay vip',\n",
              " 'since playing piano messy always thought way round',\n",
              " 'good day',\n",
              " 'like life like novel tangled write like read work thoughts',\n",
              " 'wish school like revision sessions classes 10 non uniform able laugh learn time',\n",
              " 'gives pughug pass three pughug free hug anyone pawpawty',\n",
              " 'thats old ha',\n",
              " 'everyone go need cheering damnit',\n",
              " 'hello first place welcome boston babyy lt 3',\n",
              " 'mine 44gb broke record',\n",
              " 'hope u alotta fun seeing green day awesome band',\n",
              " '7 10pm 3 sessions tonight',\n",
              " 'car costing arm leg cute forgive',\n",
              " 'cool lt 3 derby derby girls',\n",
              " 'watching girlfriend much fun daughter slip n slide time water balloon fight going',\n",
              " 'hey twitter hows going let us know day going',\n",
              " 'ohhh yeah love yosakoi wish could go japan perform',\n",
              " 'one puff cannabis found reduce depression read pic twitter com ufvae5zyvo',\n",
              " 'jk rowling magical words harry potter fan suffering depression 12 photos',\n",
              " 'woa long time twitter got flue hell say english nothing special happenend move along',\n",
              " 'doggie looks like bailey',\n",
              " 'thread vines cured depression pic twitter com 9ak2f5ryoo',\n",
              " 'quick ways ease stress depression anxiety bipolardisorder',\n",
              " 'hey peter hard man get direct response',\n",
              " 'prescribed medication depression granted illegal sk selling unlike others humiliated unable work want keep kicking someone already l',\n",
              " 'oh gosh today ive went dream boooy arrived hooome',\n",
              " 'slowly surely forgetting know something know thought different',\n",
              " 'yup comp right tweet u fav trashcan',\n",
              " 'miller forget longer live texas 1 good bbq 2 good steak',\n",
              " 'lol thats awesome',\n",
              " 'wrong girl looks look depression stress face babe examseason',\n",
              " 'yo thanks man',\n",
              " 'friends struggle depression app helps avoid potentially harmful phrases',\n",
              " 'army int got depression darkest moments life nothing explain profoundly impacted life constant life even things falling apart thats one reason pr',\n",
              " 'home playing texas hold em',\n",
              " 'wellbeingwednesday harvard school public health found females drink minimum four cups coffee per day could lower risk depression 20',\n",
              " 'thank sweety x baba maal good interesting pink dress top 5 favourite female singer regina spector u like',\n",
              " 'jesus greater depression sickness trials let whatever going bring victory name jesus',\n",
              " 'maybe new beginning drawing follow',\n",
              " 'hahaa ok set give time date place haha',\n",
              " 'hi lovely pass original photo beeeautifuul kisses',\n",
              " 'aloe vera gel fridge best make sure drink enough water',\n",
              " 'hahahahahahahah well long',\n",
              " 'followfriday make laugh',\n",
              " 'hope la absolutely crushes orlando believe lebron vs kobe matchup peeved',\n",
              " 'watching bulky amp shirtless savages fight quot scorpion king quot tv',\n",
              " 'wld simran pls 2 make ur acquantance ok im borrin',\n",
              " 'sleep soon',\n",
              " 'woke 9am study finals done today depression nap emoji sleeping face',\n",
              " 'wooo got sims 3 loving',\n",
              " 'lol live wales getyou added minute',\n",
              " 'thank youuuu triple award x',\n",
              " 'ever fake woke mental illness depression defended artist stay silent decide defend bom everything seen shame honestly',\n",
              " 'ah vision saw 14 hr depression nap coming way',\n",
              " 'thank',\n",
              " 'updates website lol',\n",
              " 'yes sir',\n",
              " 'absolutely nothing sister tickets lets make mess tour cleveland cant wait see hey monday',\n",
              " 'home depot feeling manly garden section near flowers',\n",
              " 'drax destroyer cured depression',\n",
              " 'going see quot quot today',\n",
              " 'hey emailed following great news book',\n",
              " 'showaaa come laterrrrzzzzzzzzzz lt 3',\n",
              " 'usual office drama wait work home one day',\n",
              " 'hey hey glad appreciate',\n",
              " 'love hubster best',\n",
              " 'g media trust know know well depression anxiety feel like',\n",
              " 'btw meant tell earlier sweet shirt wear afflication ufc shirts still waiting cool card get auth wear',\n",
              " 'f real real problem alll',\n",
              " 'awesome day cant wait tonight ahahahaha word day piercing lt 3',\n",
              " 'jealous looking forward photo updates',\n",
              " 'haha knew iht along w roflmao',\n",
              " 'understand natal project add hopefully',\n",
              " 'ill bakersfield sunday lol rockin roots',\n",
              " 'decided try something different lavender toe nail polish 1st look different 2nd hmm bad 3rd good choice lory',\n",
              " 'brownies good time day',\n",
              " 'sure depends wants piece critic republican chick almost got last night idiot',\n",
              " 'tired spent day cleaning making garden watching eating dancing night away friends',\n",
              " 'sounds like pretty good night',\n",
              " 'caporetto apart characters etc cool pet hate knowing something later ep spoils earlier ep',\n",
              " 'fighting depression really vexing',\n",
              " 'depression officially fully hit',\n",
              " 'yeah 7 00am still early good morning',\n",
              " 'sorry good morning',\n",
              " 'hahahaha mean',\n",
              " 'back hairdressers staying tonite bbq birthday',\n",
              " 'hope excessively mopey jams affect marks',\n",
              " 'time shower french toast together',\n",
              " 'keeping room organized keeping consistent skincare routine biked home 11 miles yesterday work eating vegan yogurt granola seasonal depression emoji loudly crying face',\n",
              " 'oh found hidden among black wires table',\n",
              " 'rnbe blue one love next time',\n",
              " 'great quite enjoyed',\n",
              " 'end 2014 2016 worst yrs emoji face tears joy really depression',\n",
              " 'stop shaping around depression anxiety trauma past accept experience',\n",
              " 'amazing day seaworld bbq house',\n",
              " 'hi shannon movies unrelated raw actually please go info films',\n",
              " 'problem buddy fun playing',\n",
              " 'thanks guys followfriday mentions',\n",
              " 'home mom today baked cake hopefully going make banana bread miss babe xoxox',\n",
              " 'completed 4 years industry 4 days back',\n",
              " 'nico still irritating hehe gotta keep calm smooth',\n",
              " 'get 100 followers day using www tweeteradder com add everyone train pay vip',\n",
              " 'love pinball wizard decided oops meant going bed ay hehe cheeky nighty night',\n",
              " 'mine small world eh',\n",
              " 'knew george bragging anything',\n",
              " '2nd sunday radelaide far good',\n",
              " 'packing extravaganza took place awestruck help friends amp fact packed day early',\n",
              " 'home',\n",
              " 'finished work joined twitter woohoo hi kim kardashian',\n",
              " 'future baby daddy',\n",
              " 'depression death',\n",
              " 'blgspt thanks',\n",
              " 'watching sabrina teenage witch episode aunts make dream date man dough favorite episode',\n",
              " 'exercising regularly cuts risk depression 16 study suggests pic twitter com 2r73iqe4hd',\n",
              " 'done bwahaha enjoy feel feeling pak nahlohbingung good luck',\n",
              " 'skies awe thanks faith us lt 3',\n",
              " 'hobo floor mikey',\n",
              " 'yes girl gonna come visit move might next weekend keep posted',\n",
              " 'lol im going look',\n",
              " 'park bom crazypark bom deals depressionpark bom nothing wrong',\n",
              " 'sounds yummy',\n",
              " 'please support important event rt rt rt rt mentalhealth depression suicide mentalhealthawareness',\n",
              " 'watch teh video watch computer cos work uploads channel',\n",
              " 'postpartum depression beyond baby blues',\n",
              " 'getting ready go movies mike',\n",
              " 'thinking today wanted say hello',\n",
              " 'friday night',\n",
              " 'chronic depression mother fucker know awake drunk asleep crying knowing one talk',\n",
              " 'organise properly next time glad enjoyed',\n",
              " 'hi finished infinity war purposely wear makeup uhm depression calling name pic twitter com ddla0fj27g',\n",
              " 'deregulation banks predatory lenders lead us another great depression republicans always seem cannot afford time gave away 4trillion',\n",
              " 'going limb might something heroin addiction chronic depression',\n",
              " 'time smoke weed take depression nap',\n",
              " 'ohh 5 til get 100',\n",
              " 'great day',\n",
              " 'mom clearly knows follow',\n",
              " 'cooks keeping preserving share recipes pickle sure',\n",
              " 'real depression hours pic twitter com zog4ztbm2e',\n",
              " 'ex person anxiety vape sativa yes depends someone deep depression weed strain good etc',\n",
              " 'watched katie peter stateside guilty pleasure love',\n",
              " 'twas last day uni today anyway relaxing heatbean tea tommy playing piano',\n",
              " 'think gran torino loved pretty much hate movies',\n",
              " 'believed second',\n",
              " 'quickie workout amp watch satc',\n",
              " 'case may interest',\n",
              " 'early get ready son medieval fair think costume disaster fun brownies look good',\n",
              " 'stared stupidly front dad haha looks like einstein',\n",
              " 'saying lie really like see evidence statement eating disorder deadliest mental illness suicidal depression alcohol drug addiction',\n",
              " 'invite',\n",
              " 'looking forward next week depression fictional characters pic twitter com mbzoqwifnn',\n",
              " 'glad liked teleseminar yep amazed dog even little short legs best',\n",
              " 'looking good say hi parents',\n",
              " 'happy mothers day mom',\n",
              " 'suck dick',\n",
              " 'wish weed legal would probs reduce depression rates emoji face tears joy',\n",
              " 'always',\n",
              " 'actually run umbraco usb stick using vistadb cassini web server',\n",
              " 'lulu follow twitter',\n",
              " 'flylady time start last week school magnificent monday everyone',\n",
              " 'dm unless follow back',\n",
              " '4 half hours sleep haha never learn worth though',\n",
              " 'good morning gorgeous day',\n",
              " 'hey everyone',\n",
              " 'lmao someone come slap depression pls n thx',\n",
              " '1 20 us children teens anxiety depression',\n",
              " 'hahaha know right lives state away hahahahah wish amazing',\n",
              " 'yee oh love see anytime town',\n",
              " 'hey type question jonasliveonfb nick lucky number 7 im like u every thing l ooooove u',\n",
              " 'sigh love wifey sweetest thing ever jus made breakfast bed jus',\n",
              " 'actually everyone makes place go broke go depression hungry 20 5 week ok',\n",
              " 'enjoyed attending bbq friends nice summer evening even better eric able attend',\n",
              " 'packing ready early flight tomorrow morning america come',\n",
              " '4 years since people started hating bom taking medicines depression cant compare serial killer nothing taking care mental health nothing wrong',\n",
              " 'got internet phone cool',\n",
              " 'well subjective much depression one suffering exactly strain puffing body weight hydration level individual tolerance level',\n",
              " 'like 2 weeks wrote emoji face tears joy post concert depression right emoji loudly crying face',\n",
              " 'get reign sure woo woo',\n",
              " 'love inspired know',\n",
              " 'hands love',\n",
              " 'lucky great friend would drive 7 hours way watch race awesome thanks guys',\n",
              " 'surprise always used powerful',\n",
              " 'come never ever see face',\n",
              " 'listening john legend reading cosmo',\n",
              " 'nghe r ng bay v n b c n c ng ho nh nh',\n",
              " 'hooomeeee traffic jammed',\n",
              " 'ever forget love cudi music til met sorry induces stoner depression beautiful lesson',\n",
              " 'yeah lookout tweets happy tweeting',\n",
              " 'could really lazy sunday afternoon nap perhaps waking smell nice roast dinner cooking lol',\n",
              " 'everything going',\n",
              " 'support depression donating 50 profits tweet 3 pic twitter com 4gsbpiuaag',\n",
              " 'happy mothers day havent got mom present yet print amazon gift card',\n",
              " 'oh well saw knew meant',\n",
              " 'want bring new sound world something different love respect ye diggg',\n",
              " 'thinking crappp',\n",
              " 'run blog website mental health look niche plr content depression add ws pls rt pic twitter com fkfnj7xdoh',\n",
              " 'find innovative sub heavy half time bassweight electro step tech www dbpoint co uk let know u think',\n",
              " 'saw south bend autograph revelation cd worry lol',\n",
              " 'good morning everyone school today',\n",
              " 'ahhhhhh cant contain excitement lol 6 days till beyonc',\n",
              " 'post something moron',\n",
              " 'k fest 2moro wait 2 c 3oh 3 oh nd get free ice cream friendly 2day',\n",
              " 'uy hola followers',\n",
              " 'like urmmmm',\n",
              " 'haha thanks owe 2',\n",
              " 'thats beautiful lovely thing say',\n",
              " 'studio day day',\n",
              " 'ah nevermind thought counts also quite predictable',\n",
              " 'loved hills season finale',\n",
              " 'figured lakers via twitter orgasms guys silly',\n",
              " 'miss post running mental health use running counter anxiety depression running mentalillness',\n",
              " 'hopefully remember forget band camp girl lookalike xoxo',\n",
              " 'thanks',\n",
              " 'ahhh know going good day nursing hangover',\n",
              " 'mom depression tied kids emotional intellectual development',\n",
              " 'well makes hate even moreee haha ove maen eachother loveeeyy',\n",
              " 'wow ha entertaining haha interesting',\n",
              " 'due three weeks normally would jump chance work new project new ppl pretty covered',\n",
              " '1 class 25 1 hospital based eating disorder treatment 1 hospital establish bipolar meds 1 witnessed 2 murders recently 1 suspected brain tumor plus usual issues depression anxiety',\n",
              " 'distance make heart grow fonder makes heart grow depression',\n",
              " 'u please pray 4 lord knows need',\n",
              " 'smc official forum',\n",
              " '1 road gang made entire pack wolves howl frightening yes true good nite see u manana',\n",
              " 'okay time get spending another day bed wallowing depression brian pic twitter com yw1qk3ar3r',\n",
              " 'deserve nobel peace prize punching bitch face told using depression ptsd caused brother death less year ago excuse get job',\n",
              " 'good time anxiety depression pic twitter com bjuajju4vx',\n",
              " 'depression hard need find way prevent think something negative ofc hard time alone crying mad time smh',\n",
              " 'please pray people struggling depression especially youth e r daughter right took bag pills suicide note school today spirit suicide go suicideawareness',\n",
              " 'read two books crippling depression time number 3',\n",
              " 'sitting net cafe boreddddd cant wait internet new home gets workingg upload crazy pics x',\n",
              " 'lonwabo happening kanye west suffering depression',\n",
              " 'amp alison keough amp michelle cormier getting alison set buisnesss',\n",
              " 'everyone come baltimore hon fest weekend kay',\n",
              " '1st wedding anniversary today many blissfully happy years together',\n",
              " 'going allow depression take life mental health going downhill going let',\n",
              " 'good one hubby bring iced apple chai tea ty jaynee',\n",
              " 'loved cameo made chuckle along sxsw talk past couple shows',\n",
              " 'oh well ill try stay long',\n",
              " 'playing piano great',\n",
              " 'natural tell pic though love natural',\n",
              " 'social media people thinking depression drug abuse low gpa okay el em aye oh',\n",
              " 'watching movie chillin',\n",
              " 'hi school model search work today aka employees get dress like 80s win',\n",
              " 'hello everybody',\n",
              " 'stops depression',\n",
              " 'new twitter world thinking ob best use',\n",
              " 'mrsa shahhht ahhhhp',\n",
              " 'ginny ut oh gonna cranking pants later lol gave dogs bath today smell much better',\n",
              " 'depression exercise decreases chance developing depression later life',\n",
              " 'bonjour reading need passport travel texas',\n",
              " 'nothing domingo',\n",
              " 'pleasure',\n",
              " 'love bestie always treating',\n",
              " 'much joined twitter follow want promise fun luv lots shout outs dc',\n",
              " 'help culture shock sd join us hooters mv wednesday 600 1200 20 check support us drink merry',\n",
              " 'omg soo cute',\n",
              " 'crap probably depression talking',\n",
              " 'checking twitter world',\n",
              " 'relate inertia caused depression think lost 3 months year due meds made groggy sleepy time write read add pain get rabid zombie lol managed',\n",
              " 'see coming still think nobody deserves go going caused depression anxiety lead trying committee suicide really heartbreaking hope',\n",
              " 'quot expense claims rules full 1 claims made mps within rules 2 rules made mps 3 er 4 quot private eye',\n",
              " 'lol 2 see gorgeous friends played would make holiday extra special seeing england',\n",
              " 'everyone duchess cambridge excellent resources postpartum care mentalhealth depression umassmedical',\n",
              " 'wishing everyone good night',\n",
              " 'symptoms premenstrual syndromethe symptoms associate pms vary include tension irritability depression emoji pointing backhand index emoji pointing backhand index',\n",
              " 'take rounds tequila shots run mcdonalds stalk someone outside apt makes feel less guilty',\n",
              " 'morning bob hope good day today',\n",
              " 'sweet ride days green lizard lol',\n",
              " 'way misu minni lady petzz misu minni finnish names',\n",
              " 'sleeping late bit depression creeping hope another episode worried',\n",
              " 'great day family',\n",
              " 'hahaha slap',\n",
              " 'limo going see george straight',\n",
              " 'thx 4 rt passive suicidal depression wish wake bipolar mentalhealh mentalillness',\n",
              " 'wicked knew',\n",
              " 'ordered 2 vera bradley cargo sling bags sale one mom choose design knows',\n",
              " 'let know gets picked',\n",
              " 'hold onto depression fades away',\n",
              " 'yoko miss',\n",
              " 'festival depression real rn',\n",
              " 'best friend r ready tonight uhuuuuuuuu hopefully something good happen',\n",
              " 'lachaise danke',\n",
              " 'celebrating minor banking triumph banking b got one admit wrong',\n",
              " 'ok like supposed tell mom depression without crying getting mad',\n",
              " 'great first sermon today 2 eucharist spf 30 day',\n",
              " 'andy bellfluer getting funny made die laughing tonight drunkeness',\n",
              " 'best mate happy time start making plans weekend lets get vodka good time xx',\n",
              " ...]"
            ]
          },
          "metadata": {},
          "execution_count": 48
        }
      ]
    },
    {
      "cell_type": "code",
      "metadata": {
        "colab": {
          "base_uri": "https://localhost:8080/"
        },
        "id": "-qBgrIlLx0ts",
        "outputId": "f7b8531d-381d-422e-8792-8940f293f869"
      },
      "source": [
        "valid_set=TextDataset(X_valid,y_valid)\n",
        "valid_set.__getitem__(1)"
      ],
      "execution_count": 49,
      "outputs": [
        {
          "output_type": "execute_result",
          "data": {
            "text/plain": [
              "(tensor([[0.0738, 0.1046, 0.8416,  ..., 0.9482, 0.6205, 0.3954],\n",
              "         [0.2455, 0.6773, 0.7534,  ..., 0.8497, 0.1132, 0.8787],\n",
              "         [0.6855, 0.1678, 0.8309,  ..., 0.9096, 0.1709, 0.2174],\n",
              "         ...,\n",
              "         [0.0000, 0.0000, 0.0000,  ..., 0.0000, 0.0000, 0.0000],\n",
              "         [0.0000, 0.0000, 0.0000,  ..., 0.0000, 0.0000, 0.0000],\n",
              "         [0.0000, 0.0000, 0.0000,  ..., 0.0000, 0.0000, 0.0000]]), 0)"
            ]
          },
          "metadata": {},
          "execution_count": 49
        }
      ]
    },
    {
      "cell_type": "code",
      "metadata": {
        "colab": {
          "base_uri": "https://localhost:8080/"
        },
        "id": "3XMu_z1UyE8R",
        "outputId": "fc4daf1d-44d9-43ac-b8ac-df6a9f8044fc"
      },
      "source": [
        "test_set=TextDataset(X_test,y_test)\n",
        "test_set.__getitem__(1)"
      ],
      "execution_count": 50,
      "outputs": [
        {
          "output_type": "execute_result",
          "data": {
            "text/plain": [
              "(tensor([[ 0.0227,  0.2415,  0.1644,  ..., -0.7390,  0.4408, -0.0128],\n",
              "         [ 0.8083,  0.0240,  0.0148,  ...,  0.7655,  0.8592,  0.6197],\n",
              "         [ 0.9655,  0.3578,  0.1872,  ...,  0.7645,  0.9493,  0.9803],\n",
              "         ...,\n",
              "         [ 0.0000,  0.0000,  0.0000,  ...,  0.0000,  0.0000,  0.0000],\n",
              "         [ 0.0000,  0.0000,  0.0000,  ...,  0.0000,  0.0000,  0.0000],\n",
              "         [ 0.0000,  0.0000,  0.0000,  ...,  0.0000,  0.0000,  0.0000]]), 0)"
            ]
          },
          "metadata": {},
          "execution_count": 50
        }
      ]
    },
    {
      "cell_type": "code",
      "metadata": {
        "colab": {
          "base_uri": "https://localhost:8080/"
        },
        "id": "TjX58Vr2yKcM",
        "outputId": "43e41bb4-aace-4ebc-ed58-63466570af18"
      },
      "source": [
        "device=torch.device('cuda' if torch.cuda.is_available() else 'cpu')\n",
        "device"
      ],
      "execution_count": 51,
      "outputs": [
        {
          "output_type": "execute_result",
          "data": {
            "text/plain": [
              "device(type='cuda')"
            ]
          },
          "metadata": {},
          "execution_count": 51
        }
      ]
    },
    {
      "cell_type": "code",
      "metadata": {
        "id": "o_eC7FtTyMf0"
      },
      "source": [
        "class BiRNN(nn.Module):\n",
        "    def __init__(self, embedding_dim, hidden_dim, output_size, num_layers, bidirectional=True):\n",
        "        super(BiRNN, self).__init__()\n",
        "        \n",
        "        self.embedding_dim=embedding_dim\n",
        "        self.hidden_dim=hidden_dim\n",
        "        self.num_layers=num_layers\n",
        "        self.output_size=output_size\n",
        "        \n",
        "        self.brnn=nn.RNN(embedding_dim, hidden_dim, num_layers, bidirectional=bidirectional, batch_first=True)\n",
        "        \n",
        "        self.fc1=nn.Linear(hidden_dim*2, 64)\n",
        "        self.fc2=nn.Linear(64,64)\n",
        "        self.final_layer=nn.Linear(64,output_size)\n",
        "        \n",
        "        self.dropout=nn.Dropout(0.5)\n",
        "        self.relu=nn.ReLU()\n",
        "        self.batchnorm1 = nn.BatchNorm1d(64)\n",
        "        self.batchnorm2 = nn.BatchNorm1d(64)\n",
        "        \n",
        "    def forward(self, embedding):\n",
        "        h0 = torch.zeros(self.num_layers*2, embedding.size(0), self.hidden_dim).to(device)\n",
        "\n",
        "        out_,hidden=self.brnn(embedding,h0)\n",
        "\n",
        "        hidden = torch.cat((hidden[-2,:,:], hidden[-1,:,:]), dim = 1)\n",
        "\n",
        "        out=self.relu(self.fc1(hidden))\n",
        "        out=self.batchnorm1(out)\n",
        "        out=self.relu(self.fc2(out))\n",
        "        out=self.batchnorm2(out)\n",
        "        out=self.dropout(out)\n",
        "        out=self.final_layer(out)\n",
        "        \n",
        "        return out"
      ],
      "execution_count": 52,
      "outputs": []
    },
    {
      "cell_type": "code",
      "metadata": {
        "colab": {
          "base_uri": "https://localhost:8080/"
        },
        "id": "39EOVbVnySNr",
        "outputId": "5f547e77-a280-412e-fe80-8c4c49d4ac6b"
      },
      "source": [
        "model=BiRNN(embedding_dim=100,hidden_dim=64,output_size=1,num_layers=3).to(device)\n",
        "model"
      ],
      "execution_count": 53,
      "outputs": [
        {
          "output_type": "execute_result",
          "data": {
            "text/plain": [
              "BiRNN(\n",
              "  (brnn): RNN(100, 64, num_layers=3, batch_first=True, bidirectional=True)\n",
              "  (fc1): Linear(in_features=128, out_features=64, bias=True)\n",
              "  (fc2): Linear(in_features=64, out_features=64, bias=True)\n",
              "  (final_layer): Linear(in_features=64, out_features=1, bias=True)\n",
              "  (dropout): Dropout(p=0.5, inplace=False)\n",
              "  (relu): ReLU()\n",
              "  (batchnorm1): BatchNorm1d(64, eps=1e-05, momentum=0.1, affine=True, track_running_stats=True)\n",
              "  (batchnorm2): BatchNorm1d(64, eps=1e-05, momentum=0.1, affine=True, track_running_stats=True)\n",
              ")"
            ]
          },
          "metadata": {},
          "execution_count": 53
        }
      ]
    },
    {
      "cell_type": "code",
      "metadata": {
        "colab": {
          "base_uri": "https://localhost:8080/"
        },
        "id": "dRKbrZ0BX-hS",
        "outputId": "adcd2a7e-7f49-462f-d26c-166b23975558"
      },
      "source": [
        "pytorch_total_params = sum(p.numel() for p in model.parameters())\n",
        "pytorch_total_params"
      ],
      "execution_count": 54,
      "outputs": [
        {
          "output_type": "execute_result",
          "data": {
            "text/plain": [
              "83649"
            ]
          },
          "metadata": {},
          "execution_count": 54
        }
      ]
    },
    {
      "cell_type": "markdown",
      "metadata": {
        "id": "8z-E9xk8Bx9u"
      },
      "source": [
        "### Hyperparameters"
      ]
    },
    {
      "cell_type": "code",
      "metadata": {
        "id": "h0Q2-ZDMBz7g"
      },
      "source": [
        "learning_rate=0.001\n",
        "batch=256\n",
        "epoch=7\n",
        "\n",
        "optimizer=torch.optim.Adam(model.parameters(), lr=learning_rate)\n",
        "criterion=nn.BCEWithLogitsLoss()"
      ],
      "execution_count": 55,
      "outputs": []
    },
    {
      "cell_type": "markdown",
      "metadata": {
        "id": "-xPP_WuPB8cQ"
      },
      "source": [
        "### Model Training"
      ]
    },
    {
      "cell_type": "code",
      "metadata": {
        "id": "tFCyNdHVBu_x"
      },
      "source": [
        "train_loader=DataLoader(dataset=train_set, batch_size=batch, shuffle=True)\n",
        "valid_loader=DataLoader(dataset=valid_set, batch_size=batch, shuffle=True)\n",
        "test_loader=DataLoader(dataset=test_set, batch_size=batch)"
      ],
      "execution_count": 56,
      "outputs": []
    },
    {
      "cell_type": "code",
      "metadata": {
        "colab": {
          "base_uri": "https://localhost:8080/"
        },
        "id": "z9jPm7AaCBck",
        "outputId": "8811081c-7899-4e0e-efda-c790bc66e6a3"
      },
      "source": [
        "train_loss=[]\n",
        "train_acc=[]\n",
        "valid_loss=[]\n",
        "valid_acc=[]\n",
        "\n",
        "print('<-----------------Start Training------------------->')\n",
        "for ep in range(epoch):\n",
        "    model.train()\n",
        "    num_updates, accuracy, loss_=0.0,0.0,0.0\n",
        "    v_acc, v_loss, v_count=0.0,0.0,0.0\n",
        "    t_acc=[]\n",
        "    p_acc=[]\n",
        "\n",
        "    for i,n in train_loader:\n",
        "        embedding=i.to(device)\n",
        "        label=n.to(device)\n",
        "\n",
        "        optimizer.zero_grad()\n",
        "        output=model(embedding)\n",
        "        y_pred=torch.round(torch.sigmoid(output)).squeeze()\n",
        "\n",
        "        loss=criterion(output,label.unsqueeze(1).float())\n",
        "        loss.backward()\n",
        "        optimizer.step()\n",
        "        \n",
        "        accuracy+=torch.sum(y_pred==label)\n",
        "        loss_+=loss.item()\n",
        "\n",
        "        t_acc.extend(label)\n",
        "        p_acc.extend(y_pred)\n",
        "        \n",
        "        num_updates+=1\n",
        "        \n",
        "    train_loss.append(loss_/(num_updates))\n",
        "\n",
        "    for j in range(len(t_acc)):\n",
        "      t_acc[j]=t_acc[j].item()\n",
        "      p_acc[j]=p_acc[j].item()\n",
        "\n",
        "    train_acc.append(accuracy_score(t_acc,p_acc))\n",
        "    \n",
        "    print('Epoch {}--> Loss: {}   Accuracy: {}'.format(ep,(loss_/(num_updates)),(accuracy_score(t_acc,p_acc))))\n",
        "    \n",
        "    t_acc=[]\n",
        "    p_acc=[]\n",
        "    with torch.no_grad():\n",
        "        model.eval()\n",
        "        for embedd, ans in valid_loader:\n",
        "            embedd=embedd.to(device)\n",
        "            ans=ans.to(device)\n",
        "            op=model(embedd)\n",
        "            ypred=torch.round(torch.sigmoid(op)).squeeze()\n",
        "\n",
        "            l=criterion(op,ans.unsqueeze(1).float())\n",
        "\n",
        "            v_acc+=torch.sum(ypred==ans)\n",
        "            v_loss+=l.item()\n",
        "\n",
        "            t_acc.extend(ans)\n",
        "            p_acc.extend(ypred)\n",
        "\n",
        "            v_count+=1\n",
        "    \n",
        "    valid_loss.append(v_loss/(v_count))\n",
        "\n",
        "    for j in range(len(t_acc)):\n",
        "      t_acc[j]=t_acc[j].item()\n",
        "      p_acc[j]=p_acc[j].item()\n",
        "\n",
        "    valid_acc.append(accuracy_score(t_acc,p_acc))\n",
        "    \n",
        "    print('\\t\\tValidation Loss:  {}  Validation Accuracy:  {}'.format((v_loss/(v_count)),(accuracy_score(t_acc,p_acc))))\n",
        "        \n",
        "print('<-----------------Finished Training------------------->')"
      ],
      "execution_count": 57,
      "outputs": [
        {
          "output_type": "stream",
          "name": "stdout",
          "text": [
            "<-----------------Start Training------------------->\n",
            "Epoch 0--> Loss: 0.670540967812905   Accuracy: 0.5870193038455692\n",
            "\t\tValidation Loss:  0.5712637731007167  Validation Accuracy:  0.7890577507598784\n",
            "Epoch 1--> Loss: 0.5488857695689568   Accuracy: 0.7561939504483964\n",
            "\t\tValidation Loss:  0.42362967133522034  Validation Accuracy:  0.8437689969604864\n",
            "Epoch 2--> Loss: 0.4801712930202484   Accuracy: 0.8159294725642194\n",
            "\t\tValidation Loss:  0.4120611037526812  Validation Accuracy:  0.835258358662614\n",
            "Epoch 3--> Loss: 0.44825484546331257   Accuracy: 0.822921416628667\n",
            "\t\tValidation Loss:  0.41115946429116385  Validation Accuracy:  0.8486322188449849\n",
            "Epoch 4--> Loss: 0.4192354426934169   Accuracy: 0.8390332877336981\n",
            "\t\tValidation Loss:  0.4165873484952109  Validation Accuracy:  0.841337386018237\n",
            "Epoch 5--> Loss: 0.40590585653598493   Accuracy: 0.84359325125399\n",
            "\t\tValidation Loss:  0.4117890851838248  Validation Accuracy:  0.8267477203647416\n",
            "Epoch 6--> Loss: 0.4007426133522621   Accuracy: 0.842985256117951\n",
            "\t\tValidation Loss:  0.4134664833545685  Validation Accuracy:  0.8401215805471125\n",
            "<-----------------Finished Training------------------->\n"
          ]
        }
      ]
    },
    {
      "cell_type": "code",
      "metadata": {
        "colab": {
          "base_uri": "https://localhost:8080/",
          "height": 315
        },
        "id": "PAr5xKTyZICI",
        "outputId": "50072aef-a964-4e06-b293-8d95cadbbd29"
      },
      "source": [
        "import matplotlib.pyplot as plt\n",
        "epochs_=[]\n",
        "for i in range(7):\n",
        "    epochs_.append(i)\n",
        "plt.plot(epochs_,train_loss,label='Train')\n",
        "plt.plot(epochs_,valid_loss,label='Valid')\n",
        "plt.xlabel('Epochs')\n",
        "plt.ylabel('Loss')\n",
        "plt.title('Train-Valid Loss Plot')\n",
        "plt.legend()\n",
        "plt.show()"
      ],
      "execution_count": 58,
      "outputs": [
        {
          "output_type": "display_data",
          "data": {
            "image/png": "[encoded data removed]",
            "text/plain": [
              "<Figure size 432x288 with 1 Axes>"
            ]
          },
          "metadata": {}
        }
      ]
    },
    {
      "cell_type": "code",
      "metadata": {
        "colab": {
          "base_uri": "https://localhost:8080/",
          "height": 315
        },
        "id": "ZPWndP2ZZXvQ",
        "outputId": "d04d0bcd-8ce2-4e94-8a8b-462cb35a9433"
      },
      "source": [
        "import matplotlib.pyplot as plt\n",
        "epochs_=[]\n",
        "for i in range(7):\n",
        "    epochs_.append(i)\n",
        "plt.plot(epochs_,train_acc,label='Train')\n",
        "plt.plot(epochs_,valid_acc,label='Valid')\n",
        "plt.xlabel('Epochs')\n",
        "plt.ylabel('Accuracy')\n",
        "plt.title('Train-Valid Accuracy Plot')\n",
        "plt.legend()\n",
        "plt.show()"
      ],
      "execution_count": 59,
      "outputs": [
        {
          "output_type": "display_data",
          "data": {
            "image/png": "[encoded data removed]",
            "text/plain": [
              "<Figure size 432x288 with 1 Axes>"
            ]
          },
          "metadata": {}
        }
      ]
    },
    {
      "cell_type": "markdown",
      "metadata": {
        "id": "weF185iS_PtZ"
      },
      "source": [
        "### Model Testing"
      ]
    },
    {
      "cell_type": "code",
      "metadata": {
        "id": "GGofRVpj-lhg"
      },
      "source": [
        "test_labels=[]\n",
        "predicted_labels=[]\n",
        "\n",
        "with torch.no_grad():\n",
        "    test_acc, test_loss, test_count=0.0,0.0,0.0\n",
        "    model.eval()\n",
        "    for embedd, ans in test_loader:\n",
        "        embedd=embedd.to(device)\n",
        "        ans=ans.to(device)\n",
        "        op=model(embedd)\n",
        "        \n",
        "        ypred=torch.round(torch.sigmoid(op)).squeeze()\n",
        "\n",
        "        test_labels.extend(ans)\n",
        "        predicted_labels.extend(ypred)\n",
        "\n",
        "        l=criterion(op,ans.unsqueeze(1).float())\n",
        "\n",
        "        test_acc+=torch.sum(ypred==ans)\n",
        "        test_loss+=l.item()\n",
        "\n",
        "        test_count+=1\n",
        "\n",
        "    test_loss_score=test_loss/(test_count)"
      ],
      "execution_count": 60,
      "outputs": []
    },
    {
      "cell_type": "markdown",
      "metadata": {
        "id": "XRG3RWN-_Sx7"
      },
      "source": [
        "### Result Analysis"
      ]
    },
    {
      "cell_type": "code",
      "metadata": {
        "colab": {
          "base_uri": "https://localhost:8080/"
        },
        "id": "6mMVmQ0F_ElV",
        "outputId": "f9149397-7e92-4c78-b98c-c0dff797dcd2"
      },
      "source": [
        "test_seq_labels=[]\n",
        "for k in range(len(test_labels)):\n",
        "    test_seq_labels.append(test_labels[k].to(device).item())\n",
        "\n",
        "pred_seq_labels=[]\n",
        "for k in range(len(predicted_labels)):\n",
        "    pred_seq_labels.append(predicted_labels[k].to(device).item())\n",
        "\n",
        "print('\\033[1m Test Loss:  {0:0.4f}  Test Accuracy:  {1:0.4f} \\033[0;0m'.format((test_loss_score),(accuracy_score(test_seq_labels,pred_seq_labels))))"
      ],
      "execution_count": 61,
      "outputs": [
        {
          "output_type": "stream",
          "name": "stdout",
          "text": [
            "\u001b[1m Test Loss:  0.3970  Test Accuracy:  0.8444 \u001b[0;0m\n"
          ]
        }
      ]
    },
    {
      "cell_type": "code",
      "metadata": {
        "colab": {
          "base_uri": "https://localhost:8080/",
          "height": 411
        },
        "id": "5TZ50x2h_NBh",
        "outputId": "240c8c67-29b4-407c-cbf3-42afdd0bd4f6"
      },
      "source": [
        "cm=confusion_matrix(test_seq_labels, pred_seq_labels)\n",
        "cm_df=pd.DataFrame(cm, index=['0','1'],\n",
        "                  columns=['0','1'])\n",
        "\n",
        "plt.figure(figsize=(7,5))\n",
        "sns.heatmap(cm_df, annot=True,fmt='g',cmap=\"twilight_shifted_r\")\n",
        "plt.title('Bidirectional RNN \\nAccuracy: {0:.4f}\\n'.format(accuracy_score(test_seq_labels,pred_seq_labels)*100))\n",
        "plt.xlabel('Predicted Label')\n",
        "plt.ylabel('Actual Label')\n",
        "plt.show()"
      ],
      "execution_count": 62,
      "outputs": [
        {
          "output_type": "display_data",
          "data": {
            "image/png": "[encoded data removed]",
            "text/plain": [
              "<Figure size 504x360 with 2 Axes>"
            ]
          },
          "metadata": {}
        }
      ]
    },
    {
      "cell_type": "code",
      "metadata": {
        "colab": {
          "base_uri": "https://localhost:8080/",
          "height": 206
        },
        "id": "aNVsbSJ__uMM",
        "outputId": "10d73090-cd22-4d04-8502-63a911fa8997"
      },
      "source": [
        "report = pd.DataFrame(classification_report(y_true = test_seq_labels, y_pred = pred_seq_labels, output_dict=True)).transpose()\n",
        "report = report.rename(index={'0': '0','1':'1'})\n",
        "report[['precision','recall','f1-score']]=report[['precision','recall','f1-score']].apply(lambda x: round(x*100,2))\n",
        "report"
      ],
      "execution_count": 63,
      "outputs": [
        {
          "output_type": "execute_result",
          "data": {
            "text/html": [
              "<div>\n",
              "<style scoped>\n",
              "    .dataframe tbody tr th:only-of-type {\n",
              "        vertical-align: middle;\n",
              "    }\n",
              "\n",
              "    .dataframe tbody tr th {\n",
              "        vertical-align: top;\n",
              "    }\n",
              "\n",
              "    .dataframe thead th {\n",
              "        text-align: right;\n",
              "    }\n",
              "</style>\n",
              "<table border=\"1\" class=\"dataframe\">\n",
              "  <thead>\n",
              "    <tr style=\"text-align: right;\">\n",
              "      <th></th>\n",
              "      <th>precision</th>\n",
              "      <th>recall</th>\n",
              "      <th>f1-score</th>\n",
              "      <th>support</th>\n",
              "    </tr>\n",
              "  </thead>\n",
              "  <tbody>\n",
              "    <tr>\n",
              "      <th>0</th>\n",
              "      <td>86.05</td>\n",
              "      <td>95.35</td>\n",
              "      <td>90.46</td>\n",
              "      <td>1591.000000</td>\n",
              "    </tr>\n",
              "    <tr>\n",
              "      <th>1</th>\n",
              "      <td>74.74</td>\n",
              "      <td>47.10</td>\n",
              "      <td>57.78</td>\n",
              "      <td>465.000000</td>\n",
              "    </tr>\n",
              "    <tr>\n",
              "      <th>accuracy</th>\n",
              "      <td>84.44</td>\n",
              "      <td>84.44</td>\n",
              "      <td>84.44</td>\n",
              "      <td>0.844358</td>\n",
              "    </tr>\n",
              "    <tr>\n",
              "      <th>macro avg</th>\n",
              "      <td>80.40</td>\n",
              "      <td>71.22</td>\n",
              "      <td>74.12</td>\n",
              "      <td>2056.000000</td>\n",
              "    </tr>\n",
              "    <tr>\n",
              "      <th>weighted avg</th>\n",
              "      <td>83.49</td>\n",
              "      <td>84.44</td>\n",
              "      <td>83.07</td>\n",
              "      <td>2056.000000</td>\n",
              "    </tr>\n",
              "  </tbody>\n",
              "</table>\n",
              "</div>"
            ],
            "text/plain": [
              "              precision  recall  f1-score      support\n",
              "0                 86.05   95.35     90.46  1591.000000\n",
              "1                 74.74   47.10     57.78   465.000000\n",
              "accuracy          84.44   84.44     84.44     0.844358\n",
              "macro avg         80.40   71.22     74.12  2056.000000\n",
              "weighted avg      83.49   84.44     83.07  2056.000000"
            ]
          },
          "metadata": {},
          "execution_count": 63
        }
      ]
    }
  ]
}